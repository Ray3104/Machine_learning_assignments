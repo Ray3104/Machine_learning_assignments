{
  "nbformat": 4,
  "nbformat_minor": 0,
  "metadata": {
    "kernelspec": {
      "display_name": "Python 3",
      "language": "python",
      "name": "python3"
    },
    "language_info": {
      "codemirror_mode": {
        "name": "ipython",
        "version": 3
      },
      "file_extension": ".py",
      "mimetype": "text/x-python",
      "name": "python",
      "nbconvert_exporter": "python",
      "pygments_lexer": "ipython3",
      "version": "3.8.5"
    },
    "colab": {
      "name": "Assignment2_regression.ipynb",
      "provenance": [],
      "collapsed_sections": [
        "yU3zn-Tq34L2",
        "YJu73f9w34Mc"
      ],
      "include_colab_link": true
    }
  },
  "cells": [
    {
      "cell_type": "markdown",
      "metadata": {
        "id": "view-in-github",
        "colab_type": "text"
      },
      "source": [
        "<a href=\"https://colab.research.google.com/github/Ray3104/Machine_learning_assignments/blob/main/Assignment2_regression.ipynb\" target=\"_parent\"><img src=\"https://colab.research.google.com/assets/colab-badge.svg\" alt=\"Open In Colab\"/></a>"
      ]
    },
    {
      "cell_type": "markdown",
      "metadata": {
        "id": "3peJEC4D34LJ"
      },
      "source": [
        "#### Welcome to Assingment  2 of Machine Learning Course 5DV194! \n",
        "The task is to develop regression algorithms to predict house prices.\n",
        "#### Deadline of Assignment 2:\n",
        "10 March, 2021 (23:59:59 Stockholm time)\n",
        "\n",
        "\n",
        "#### Goal \n",
        "To practice linear regression and neural network on housing price prediction. Additionally, to get familiar with the libraries of pandas (e.g., data frame), tensorflow (e.g., sequential), sklearn (e.g., linear regression, ridge regression, preprocessing).\n",
        "#### Dataset\n",
        "The Boston Housing Dataset\n",
        "https://www.cs.toronto.edu/~delve/data/boston/bostonDetail.html\n",
        "\n",
        " \n",
        "\n",
        "#### Grading (200 points)\n",
        "##### 160 points \n",
        "Follow this jupyter notebook file below, you will find some tasks to complete by coding.  \n",
        "##### 40 points (report)\n",
        "Write a report (1 page, Times New Roman, font 11) which should include comparision of both algorithms on different settings (30 points); And your thoughts/options about the difference of them (different algorithms, different settings, different performance). (10 points).     \n",
        " \n",
        "\n",
        "Upload the report PDF and this jupyter notebook file \"Assignment2_regression.ipynb\" to Cambro/Drop Box."
      ]
    },
    {
      "cell_type": "markdown",
      "metadata": {
        "id": "s3CXGxcN34LV"
      },
      "source": [
        "# In order to run the following codes, you need to install some libraries, such \n",
        "as pandas, numpy, matplotlib, seaborn, tensorlfow, scikit-learn. \n",
        "# You can use command 'conda install pandas' or 'pip install pandas'. \n",
        "# Or you can list all libraries in a txt file, one per line, and install them once 'pip install -r yourFileName.txt'"
      ]
    },
    {
      "cell_type": "markdown",
      "metadata": {
        "id": "EJ4VmZUL34Lb"
      },
      "source": [
        "## Import  some libraries"
      ]
    },
    {
      "cell_type": "code",
      "metadata": {
        "id": "wzwZYOeD34Ld"
      },
      "source": [
        "import pandas as pd\n",
        "import matplotlib.pyplot as plt\n",
        "import seaborn as sns\n",
        "%matplotlib inline"
      ],
      "execution_count": null,
      "outputs": []
    },
    {
      "cell_type": "markdown",
      "metadata": {
        "id": "Rxzj7Rjp34Le"
      },
      "source": [
        "#### Task-1: import the library of 'numpy' and give it an alias as \"np\" (5 points)"
      ]
    },
    {
      "cell_type": "code",
      "metadata": {
        "id": "moy8X0Pj34Lg"
      },
      "source": [
        "import numpy as np\n"
      ],
      "execution_count": null,
      "outputs": []
    },
    {
      "cell_type": "markdown",
      "metadata": {
        "id": "NX06frQq34Li"
      },
      "source": [
        "## Get the data"
      ]
    },
    {
      "cell_type": "code",
      "metadata": {
        "id": "D-VeYUzj34Lj"
      },
      "source": [
        "from sklearn.datasets import load_boston\n",
        "housing_data = load_boston()"
      ],
      "execution_count": null,
      "outputs": []
    },
    {
      "cell_type": "markdown",
      "metadata": {
        "id": "vjusPCPi34Ll"
      },
      "source": [
        "## Explore the data a bit"
      ]
    },
    {
      "cell_type": "code",
      "metadata": {
        "colab": {
          "base_uri": "https://localhost:8080/"
        },
        "id": "CaK0cm-X34Lm",
        "outputId": "fe9518d6-459d-4adb-a189-e266f6dd2d9a"
      },
      "source": [
        "# Checing the keys of the dataset, which is in dictionary format.\n",
        "print(housing_data.keys())"
      ],
      "execution_count": null,
      "outputs": [
        {
          "output_type": "stream",
          "text": [
            "dict_keys(['data', 'target', 'feature_names', 'DESCR', 'filename'])\n"
          ],
          "name": "stdout"
        }
      ]
    },
    {
      "cell_type": "code",
      "metadata": {
        "colab": {
          "base_uri": "https://localhost:8080/"
        },
        "id": "VjpI6hfj34Lo",
        "outputId": "211ae761-ae16-4c98-894a-9bc1343497b9"
      },
      "source": [
        "# Checking description of the dataset\n",
        "print (housing_data[\"DESCR\"])"
      ],
      "execution_count": null,
      "outputs": [
        {
          "output_type": "stream",
          "text": [
            ".. _boston_dataset:\n",
            "\n",
            "Boston house prices dataset\n",
            "---------------------------\n",
            "\n",
            "**Data Set Characteristics:**  \n",
            "\n",
            "    :Number of Instances: 506 \n",
            "\n",
            "    :Number of Attributes: 13 numeric/categorical predictive. Median Value (attribute 14) is usually the target.\n",
            "\n",
            "    :Attribute Information (in order):\n",
            "        - CRIM     per capita crime rate by town\n",
            "        - ZN       proportion of residential land zoned for lots over 25,000 sq.ft.\n",
            "        - INDUS    proportion of non-retail business acres per town\n",
            "        - CHAS     Charles River dummy variable (= 1 if tract bounds river; 0 otherwise)\n",
            "        - NOX      nitric oxides concentration (parts per 10 million)\n",
            "        - RM       average number of rooms per dwelling\n",
            "        - AGE      proportion of owner-occupied units built prior to 1940\n",
            "        - DIS      weighted distances to five Boston employment centres\n",
            "        - RAD      index of accessibility to radial highways\n",
            "        - TAX      full-value property-tax rate per $10,000\n",
            "        - PTRATIO  pupil-teacher ratio by town\n",
            "        - B        1000(Bk - 0.63)^2 where Bk is the proportion of blacks by town\n",
            "        - LSTAT    % lower status of the population\n",
            "        - MEDV     Median value of owner-occupied homes in $1000's\n",
            "\n",
            "    :Missing Attribute Values: None\n",
            "\n",
            "    :Creator: Harrison, D. and Rubinfeld, D.L.\n",
            "\n",
            "This is a copy of UCI ML housing dataset.\n",
            "https://archive.ics.uci.edu/ml/machine-learning-databases/housing/\n",
            "\n",
            "\n",
            "This dataset was taken from the StatLib library which is maintained at Carnegie Mellon University.\n",
            "\n",
            "The Boston house-price data of Harrison, D. and Rubinfeld, D.L. 'Hedonic\n",
            "prices and the demand for clean air', J. Environ. Economics & Management,\n",
            "vol.5, 81-102, 1978.   Used in Belsley, Kuh & Welsch, 'Regression diagnostics\n",
            "...', Wiley, 1980.   N.B. Various transformations are used in the table on\n",
            "pages 244-261 of the latter.\n",
            "\n",
            "The Boston house-price data has been used in many machine learning papers that address regression\n",
            "problems.   \n",
            "     \n",
            ".. topic:: References\n",
            "\n",
            "   - Belsley, Kuh & Welsch, 'Regression diagnostics: Identifying Influential Data and Sources of Collinearity', Wiley, 1980. 244-261.\n",
            "   - Quinlan,R. (1993). Combining Instance-Based and Model-Based Learning. In Proceedings on the Tenth International Conference of Machine Learning, 236-243, University of Massachusetts, Amherst. Morgan Kaufmann.\n",
            "\n"
          ],
          "name": "stdout"
        }
      ]
    },
    {
      "cell_type": "code",
      "metadata": {
        "id": "V-LdLYlE34Lp"
      },
      "source": [
        "# Converting the data into Data Frame using pandas\n",
        "boston = pd.DataFrame(housing_data.data)\n",
        "#boston.head()\n",
        "#Assigning feature-names to colums of data frame\n",
        "boston.columns = housing_data.feature_names"
      ],
      "execution_count": null,
      "outputs": []
    },
    {
      "cell_type": "markdown",
      "metadata": {
        "id": "6WIGFawj34Lr"
      },
      "source": [
        "#### Task-2: Print the first ten rows for the dataframe boston (5 points)"
      ]
    },
    {
      "cell_type": "code",
      "metadata": {
        "scrolled": true,
        "colab": {
          "base_uri": "https://localhost:8080/"
        },
        "id": "sAeqDjd834Ls",
        "outputId": "b5439011-841c-48a8-df11-022ffc8797a6"
      },
      "source": [
        "print(boston[0:10])\n"
      ],
      "execution_count": null,
      "outputs": [
        {
          "output_type": "stream",
          "text": [
            "      CRIM    ZN  INDUS  CHAS    NOX  ...  RAD    TAX  PTRATIO       B  LSTAT\n",
            "0  0.00632  18.0   2.31   0.0  0.538  ...  1.0  296.0     15.3  396.90   4.98\n",
            "1  0.02731   0.0   7.07   0.0  0.469  ...  2.0  242.0     17.8  396.90   9.14\n",
            "2  0.02729   0.0   7.07   0.0  0.469  ...  2.0  242.0     17.8  392.83   4.03\n",
            "3  0.03237   0.0   2.18   0.0  0.458  ...  3.0  222.0     18.7  394.63   2.94\n",
            "4  0.06905   0.0   2.18   0.0  0.458  ...  3.0  222.0     18.7  396.90   5.33\n",
            "5  0.02985   0.0   2.18   0.0  0.458  ...  3.0  222.0     18.7  394.12   5.21\n",
            "6  0.08829  12.5   7.87   0.0  0.524  ...  5.0  311.0     15.2  395.60  12.43\n",
            "7  0.14455  12.5   7.87   0.0  0.524  ...  5.0  311.0     15.2  396.90  19.15\n",
            "8  0.21124  12.5   7.87   0.0  0.524  ...  5.0  311.0     15.2  386.63  29.93\n",
            "9  0.17004  12.5   7.87   0.0  0.524  ...  5.0  311.0     15.2  386.71  17.10\n",
            "\n",
            "[10 rows x 13 columns]\n"
          ],
          "name": "stdout"
        }
      ]
    },
    {
      "cell_type": "code",
      "metadata": {
        "colab": {
          "base_uri": "https://localhost:8080/",
          "height": 202
        },
        "id": "4y6DT_XT34Lt",
        "outputId": "fd4b54c1-cef4-4227-a973-d3af6355033e"
      },
      "source": [
        "#Adding the target column Price to the data frame\n",
        "boston['PRICE'] = housing_data.target\n",
        "boston.head()"
      ],
      "execution_count": null,
      "outputs": [
        {
          "output_type": "execute_result",
          "data": {
            "text/html": [
              "<div>\n",
              "<style scoped>\n",
              "    .dataframe tbody tr th:only-of-type {\n",
              "        vertical-align: middle;\n",
              "    }\n",
              "\n",
              "    .dataframe tbody tr th {\n",
              "        vertical-align: top;\n",
              "    }\n",
              "\n",
              "    .dataframe thead th {\n",
              "        text-align: right;\n",
              "    }\n",
              "</style>\n",
              "<table border=\"1\" class=\"dataframe\">\n",
              "  <thead>\n",
              "    <tr style=\"text-align: right;\">\n",
              "      <th></th>\n",
              "      <th>CRIM</th>\n",
              "      <th>ZN</th>\n",
              "      <th>INDUS</th>\n",
              "      <th>CHAS</th>\n",
              "      <th>NOX</th>\n",
              "      <th>RM</th>\n",
              "      <th>AGE</th>\n",
              "      <th>DIS</th>\n",
              "      <th>RAD</th>\n",
              "      <th>TAX</th>\n",
              "      <th>PTRATIO</th>\n",
              "      <th>B</th>\n",
              "      <th>LSTAT</th>\n",
              "      <th>PRICE</th>\n",
              "    </tr>\n",
              "  </thead>\n",
              "  <tbody>\n",
              "    <tr>\n",
              "      <th>0</th>\n",
              "      <td>0.00632</td>\n",
              "      <td>18.0</td>\n",
              "      <td>2.31</td>\n",
              "      <td>0.0</td>\n",
              "      <td>0.538</td>\n",
              "      <td>6.575</td>\n",
              "      <td>65.2</td>\n",
              "      <td>4.0900</td>\n",
              "      <td>1.0</td>\n",
              "      <td>296.0</td>\n",
              "      <td>15.3</td>\n",
              "      <td>396.90</td>\n",
              "      <td>4.98</td>\n",
              "      <td>24.0</td>\n",
              "    </tr>\n",
              "    <tr>\n",
              "      <th>1</th>\n",
              "      <td>0.02731</td>\n",
              "      <td>0.0</td>\n",
              "      <td>7.07</td>\n",
              "      <td>0.0</td>\n",
              "      <td>0.469</td>\n",
              "      <td>6.421</td>\n",
              "      <td>78.9</td>\n",
              "      <td>4.9671</td>\n",
              "      <td>2.0</td>\n",
              "      <td>242.0</td>\n",
              "      <td>17.8</td>\n",
              "      <td>396.90</td>\n",
              "      <td>9.14</td>\n",
              "      <td>21.6</td>\n",
              "    </tr>\n",
              "    <tr>\n",
              "      <th>2</th>\n",
              "      <td>0.02729</td>\n",
              "      <td>0.0</td>\n",
              "      <td>7.07</td>\n",
              "      <td>0.0</td>\n",
              "      <td>0.469</td>\n",
              "      <td>7.185</td>\n",
              "      <td>61.1</td>\n",
              "      <td>4.9671</td>\n",
              "      <td>2.0</td>\n",
              "      <td>242.0</td>\n",
              "      <td>17.8</td>\n",
              "      <td>392.83</td>\n",
              "      <td>4.03</td>\n",
              "      <td>34.7</td>\n",
              "    </tr>\n",
              "    <tr>\n",
              "      <th>3</th>\n",
              "      <td>0.03237</td>\n",
              "      <td>0.0</td>\n",
              "      <td>2.18</td>\n",
              "      <td>0.0</td>\n",
              "      <td>0.458</td>\n",
              "      <td>6.998</td>\n",
              "      <td>45.8</td>\n",
              "      <td>6.0622</td>\n",
              "      <td>3.0</td>\n",
              "      <td>222.0</td>\n",
              "      <td>18.7</td>\n",
              "      <td>394.63</td>\n",
              "      <td>2.94</td>\n",
              "      <td>33.4</td>\n",
              "    </tr>\n",
              "    <tr>\n",
              "      <th>4</th>\n",
              "      <td>0.06905</td>\n",
              "      <td>0.0</td>\n",
              "      <td>2.18</td>\n",
              "      <td>0.0</td>\n",
              "      <td>0.458</td>\n",
              "      <td>7.147</td>\n",
              "      <td>54.2</td>\n",
              "      <td>6.0622</td>\n",
              "      <td>3.0</td>\n",
              "      <td>222.0</td>\n",
              "      <td>18.7</td>\n",
              "      <td>396.90</td>\n",
              "      <td>5.33</td>\n",
              "      <td>36.2</td>\n",
              "    </tr>\n",
              "  </tbody>\n",
              "</table>\n",
              "</div>"
            ],
            "text/plain": [
              "      CRIM    ZN  INDUS  CHAS    NOX  ...    TAX  PTRATIO       B  LSTAT  PRICE\n",
              "0  0.00632  18.0   2.31   0.0  0.538  ...  296.0     15.3  396.90   4.98   24.0\n",
              "1  0.02731   0.0   7.07   0.0  0.469  ...  242.0     17.8  396.90   9.14   21.6\n",
              "2  0.02729   0.0   7.07   0.0  0.469  ...  242.0     17.8  392.83   4.03   34.7\n",
              "3  0.03237   0.0   2.18   0.0  0.458  ...  222.0     18.7  394.63   2.94   33.4\n",
              "4  0.06905   0.0   2.18   0.0  0.458  ...  222.0     18.7  396.90   5.33   36.2\n",
              "\n",
              "[5 rows x 14 columns]"
            ]
          },
          "metadata": {
            "tags": []
          },
          "execution_count": 53
        }
      ]
    },
    {
      "cell_type": "code",
      "metadata": {
        "colab": {
          "base_uri": "https://localhost:8080/"
        },
        "id": "TBuilT2o34Lu",
        "outputId": "ee831075-f7b9-4890-ad04-095548aafd54"
      },
      "source": [
        "# Let's see how the data structure looks like now\n",
        "boston.info()"
      ],
      "execution_count": null,
      "outputs": [
        {
          "output_type": "stream",
          "text": [
            "<class 'pandas.core.frame.DataFrame'>\n",
            "RangeIndex: 506 entries, 0 to 505\n",
            "Data columns (total 14 columns):\n",
            " #   Column   Non-Null Count  Dtype  \n",
            "---  ------   --------------  -----  \n",
            " 0   CRIM     506 non-null    float64\n",
            " 1   ZN       506 non-null    float64\n",
            " 2   INDUS    506 non-null    float64\n",
            " 3   CHAS     506 non-null    float64\n",
            " 4   NOX      506 non-null    float64\n",
            " 5   RM       506 non-null    float64\n",
            " 6   AGE      506 non-null    float64\n",
            " 7   DIS      506 non-null    float64\n",
            " 8   RAD      506 non-null    float64\n",
            " 9   TAX      506 non-null    float64\n",
            " 10  PTRATIO  506 non-null    float64\n",
            " 11  B        506 non-null    float64\n",
            " 12  LSTAT    506 non-null    float64\n",
            " 13  PRICE    506 non-null    float64\n",
            "dtypes: float64(14)\n",
            "memory usage: 55.5 KB\n"
          ],
          "name": "stdout"
        }
      ]
    },
    {
      "cell_type": "markdown",
      "metadata": {
        "id": "l8EIAoqq34Lu"
      },
      "source": [
        "#### Task-3: Return the Summary Statistic of the numeric columns for dataframe boston by applying the method 'describe' of data frame. (5 points)"
      ]
    },
    {
      "cell_type": "code",
      "metadata": {
        "colab": {
          "base_uri": "https://localhost:8080/",
          "height": 314
        },
        "id": "MhM6EV3434Lv",
        "outputId": "7ac99699-2c8c-4c67-f92e-796c1565be29"
      },
      "source": [
        "boston.describe()"
      ],
      "execution_count": null,
      "outputs": [
        {
          "output_type": "execute_result",
          "data": {
            "text/html": [
              "<div>\n",
              "<style scoped>\n",
              "    .dataframe tbody tr th:only-of-type {\n",
              "        vertical-align: middle;\n",
              "    }\n",
              "\n",
              "    .dataframe tbody tr th {\n",
              "        vertical-align: top;\n",
              "    }\n",
              "\n",
              "    .dataframe thead th {\n",
              "        text-align: right;\n",
              "    }\n",
              "</style>\n",
              "<table border=\"1\" class=\"dataframe\">\n",
              "  <thead>\n",
              "    <tr style=\"text-align: right;\">\n",
              "      <th></th>\n",
              "      <th>CRIM</th>\n",
              "      <th>ZN</th>\n",
              "      <th>INDUS</th>\n",
              "      <th>CHAS</th>\n",
              "      <th>NOX</th>\n",
              "      <th>RM</th>\n",
              "      <th>AGE</th>\n",
              "      <th>DIS</th>\n",
              "      <th>RAD</th>\n",
              "      <th>TAX</th>\n",
              "      <th>PTRATIO</th>\n",
              "      <th>B</th>\n",
              "      <th>LSTAT</th>\n",
              "      <th>PRICE</th>\n",
              "    </tr>\n",
              "  </thead>\n",
              "  <tbody>\n",
              "    <tr>\n",
              "      <th>count</th>\n",
              "      <td>506.000000</td>\n",
              "      <td>506.000000</td>\n",
              "      <td>506.000000</td>\n",
              "      <td>506.000000</td>\n",
              "      <td>506.000000</td>\n",
              "      <td>506.000000</td>\n",
              "      <td>506.000000</td>\n",
              "      <td>506.000000</td>\n",
              "      <td>506.000000</td>\n",
              "      <td>506.000000</td>\n",
              "      <td>506.000000</td>\n",
              "      <td>506.000000</td>\n",
              "      <td>506.000000</td>\n",
              "      <td>506.000000</td>\n",
              "    </tr>\n",
              "    <tr>\n",
              "      <th>mean</th>\n",
              "      <td>3.613524</td>\n",
              "      <td>11.363636</td>\n",
              "      <td>11.136779</td>\n",
              "      <td>0.069170</td>\n",
              "      <td>0.554695</td>\n",
              "      <td>6.284634</td>\n",
              "      <td>68.574901</td>\n",
              "      <td>3.795043</td>\n",
              "      <td>9.549407</td>\n",
              "      <td>408.237154</td>\n",
              "      <td>18.455534</td>\n",
              "      <td>356.674032</td>\n",
              "      <td>12.653063</td>\n",
              "      <td>22.532806</td>\n",
              "    </tr>\n",
              "    <tr>\n",
              "      <th>std</th>\n",
              "      <td>8.601545</td>\n",
              "      <td>23.322453</td>\n",
              "      <td>6.860353</td>\n",
              "      <td>0.253994</td>\n",
              "      <td>0.115878</td>\n",
              "      <td>0.702617</td>\n",
              "      <td>28.148861</td>\n",
              "      <td>2.105710</td>\n",
              "      <td>8.707259</td>\n",
              "      <td>168.537116</td>\n",
              "      <td>2.164946</td>\n",
              "      <td>91.294864</td>\n",
              "      <td>7.141062</td>\n",
              "      <td>9.197104</td>\n",
              "    </tr>\n",
              "    <tr>\n",
              "      <th>min</th>\n",
              "      <td>0.006320</td>\n",
              "      <td>0.000000</td>\n",
              "      <td>0.460000</td>\n",
              "      <td>0.000000</td>\n",
              "      <td>0.385000</td>\n",
              "      <td>3.561000</td>\n",
              "      <td>2.900000</td>\n",
              "      <td>1.129600</td>\n",
              "      <td>1.000000</td>\n",
              "      <td>187.000000</td>\n",
              "      <td>12.600000</td>\n",
              "      <td>0.320000</td>\n",
              "      <td>1.730000</td>\n",
              "      <td>5.000000</td>\n",
              "    </tr>\n",
              "    <tr>\n",
              "      <th>25%</th>\n",
              "      <td>0.082045</td>\n",
              "      <td>0.000000</td>\n",
              "      <td>5.190000</td>\n",
              "      <td>0.000000</td>\n",
              "      <td>0.449000</td>\n",
              "      <td>5.885500</td>\n",
              "      <td>45.025000</td>\n",
              "      <td>2.100175</td>\n",
              "      <td>4.000000</td>\n",
              "      <td>279.000000</td>\n",
              "      <td>17.400000</td>\n",
              "      <td>375.377500</td>\n",
              "      <td>6.950000</td>\n",
              "      <td>17.025000</td>\n",
              "    </tr>\n",
              "    <tr>\n",
              "      <th>50%</th>\n",
              "      <td>0.256510</td>\n",
              "      <td>0.000000</td>\n",
              "      <td>9.690000</td>\n",
              "      <td>0.000000</td>\n",
              "      <td>0.538000</td>\n",
              "      <td>6.208500</td>\n",
              "      <td>77.500000</td>\n",
              "      <td>3.207450</td>\n",
              "      <td>5.000000</td>\n",
              "      <td>330.000000</td>\n",
              "      <td>19.050000</td>\n",
              "      <td>391.440000</td>\n",
              "      <td>11.360000</td>\n",
              "      <td>21.200000</td>\n",
              "    </tr>\n",
              "    <tr>\n",
              "      <th>75%</th>\n",
              "      <td>3.677083</td>\n",
              "      <td>12.500000</td>\n",
              "      <td>18.100000</td>\n",
              "      <td>0.000000</td>\n",
              "      <td>0.624000</td>\n",
              "      <td>6.623500</td>\n",
              "      <td>94.075000</td>\n",
              "      <td>5.188425</td>\n",
              "      <td>24.000000</td>\n",
              "      <td>666.000000</td>\n",
              "      <td>20.200000</td>\n",
              "      <td>396.225000</td>\n",
              "      <td>16.955000</td>\n",
              "      <td>25.000000</td>\n",
              "    </tr>\n",
              "    <tr>\n",
              "      <th>max</th>\n",
              "      <td>88.976200</td>\n",
              "      <td>100.000000</td>\n",
              "      <td>27.740000</td>\n",
              "      <td>1.000000</td>\n",
              "      <td>0.871000</td>\n",
              "      <td>8.780000</td>\n",
              "      <td>100.000000</td>\n",
              "      <td>12.126500</td>\n",
              "      <td>24.000000</td>\n",
              "      <td>711.000000</td>\n",
              "      <td>22.000000</td>\n",
              "      <td>396.900000</td>\n",
              "      <td>37.970000</td>\n",
              "      <td>50.000000</td>\n",
              "    </tr>\n",
              "  </tbody>\n",
              "</table>\n",
              "</div>"
            ],
            "text/plain": [
              "             CRIM          ZN       INDUS  ...           B       LSTAT       PRICE\n",
              "count  506.000000  506.000000  506.000000  ...  506.000000  506.000000  506.000000\n",
              "mean     3.613524   11.363636   11.136779  ...  356.674032   12.653063   22.532806\n",
              "std      8.601545   23.322453    6.860353  ...   91.294864    7.141062    9.197104\n",
              "min      0.006320    0.000000    0.460000  ...    0.320000    1.730000    5.000000\n",
              "25%      0.082045    0.000000    5.190000  ...  375.377500    6.950000   17.025000\n",
              "50%      0.256510    0.000000    9.690000  ...  391.440000   11.360000   21.200000\n",
              "75%      3.677083   12.500000   18.100000  ...  396.225000   16.955000   25.000000\n",
              "max     88.976200  100.000000   27.740000  ...  396.900000   37.970000   50.000000\n",
              "\n",
              "[8 rows x 14 columns]"
            ]
          },
          "metadata": {
            "tags": []
          },
          "execution_count": 55
        }
      ]
    },
    {
      "cell_type": "markdown",
      "metadata": {
        "id": "D0WjZ9Ae34Lw"
      },
      "source": [
        "#### Before going to machine learning algorithms, we should understand the data a  bit more."
      ]
    },
    {
      "cell_type": "code",
      "metadata": {
        "colab": {
          "base_uri": "https://localhost:8080/",
          "height": 319
        },
        "id": "QSR4PH1z34Ly",
        "outputId": "df0f0259-d9c9-4409-c53c-0bff558dfc08"
      },
      "source": [
        "# Correlation between Different features\n",
        "sns.heatmap(boston.corr())"
      ],
      "execution_count": null,
      "outputs": [
        {
          "output_type": "execute_result",
          "data": {
            "text/plain": [
              "<matplotlib.axes._subplots.AxesSubplot at 0x7fc813bae390>"
            ]
          },
          "metadata": {
            "tags": []
          },
          "execution_count": 56
        },
        {
          "output_type": "display_data",
          "data": {
            "image/png": "[encoded data removed]",
            "text/plain": [
              "<Figure size 432x288 with 2 Axes>"
            ]
          },
          "metadata": {
            "tags": [],
            "needs_background": "light"
          }
        }
      ]
    },
    {
      "cell_type": "code",
      "metadata": {
        "colab": {
          "base_uri": "https://localhost:8080/",
          "height": 387
        },
        "id": "alhx2VbS34Lz",
        "outputId": "a5f7cb2c-5c1d-4b81-c28c-50a277da057b"
      },
      "source": [
        "# Distributing of PRICE Column\n",
        "sns.displot(boston['PRICE'])"
      ],
      "execution_count": null,
      "outputs": [
        {
          "output_type": "execute_result",
          "data": {
            "text/plain": [
              "<seaborn.axisgrid.FacetGrid at 0x7fc813aab590>"
            ]
          },
          "metadata": {
            "tags": []
          },
          "execution_count": 57
        },
        {
          "output_type": "display_data",
          "data": {
            "image/png": "[encoded data removed]",
            "text/plain": [
              "<Figure size 360x360 with 1 Axes>"
            ]
          },
          "metadata": {
            "tags": [],
            "needs_background": "light"
          }
        }
      ]
    },
    {
      "cell_type": "markdown",
      "metadata": {
        "id": "gZ1uS8A134L0"
      },
      "source": [
        "#### Task-4: try yourself to distribute two other columns (e.g., number of rooms, nitric oxides concentration) (10 points)"
      ]
    },
    {
      "cell_type": "code",
      "metadata": {
        "colab": {
          "base_uri": "https://localhost:8080/",
          "height": 202
        },
        "id": "9ve-ULwN34L1",
        "outputId": "4307b9e0-1e6c-42d3-dd23-4ad000301c25"
      },
      "source": [
        "boston['NUMBER OF ROOMS'] = 0\n",
        "boston['NITRIC OXIDES CONCENTRATION'] = 0\n",
        "boston.head()"
      ],
      "execution_count": null,
      "outputs": [
        {
          "output_type": "execute_result",
          "data": {
            "text/html": [
              "<div>\n",
              "<style scoped>\n",
              "    .dataframe tbody tr th:only-of-type {\n",
              "        vertical-align: middle;\n",
              "    }\n",
              "\n",
              "    .dataframe tbody tr th {\n",
              "        vertical-align: top;\n",
              "    }\n",
              "\n",
              "    .dataframe thead th {\n",
              "        text-align: right;\n",
              "    }\n",
              "</style>\n",
              "<table border=\"1\" class=\"dataframe\">\n",
              "  <thead>\n",
              "    <tr style=\"text-align: right;\">\n",
              "      <th></th>\n",
              "      <th>CRIM</th>\n",
              "      <th>ZN</th>\n",
              "      <th>INDUS</th>\n",
              "      <th>CHAS</th>\n",
              "      <th>NOX</th>\n",
              "      <th>RM</th>\n",
              "      <th>AGE</th>\n",
              "      <th>DIS</th>\n",
              "      <th>RAD</th>\n",
              "      <th>TAX</th>\n",
              "      <th>PTRATIO</th>\n",
              "      <th>B</th>\n",
              "      <th>LSTAT</th>\n",
              "      <th>PRICE</th>\n",
              "      <th>NUMBER OF ROOMS</th>\n",
              "      <th>NITRIC OXIDES CONCENTRATION</th>\n",
              "    </tr>\n",
              "  </thead>\n",
              "  <tbody>\n",
              "    <tr>\n",
              "      <th>0</th>\n",
              "      <td>0.00632</td>\n",
              "      <td>18.0</td>\n",
              "      <td>2.31</td>\n",
              "      <td>0.0</td>\n",
              "      <td>0.538</td>\n",
              "      <td>6.575</td>\n",
              "      <td>65.2</td>\n",
              "      <td>4.0900</td>\n",
              "      <td>1.0</td>\n",
              "      <td>296.0</td>\n",
              "      <td>15.3</td>\n",
              "      <td>396.90</td>\n",
              "      <td>4.98</td>\n",
              "      <td>24.0</td>\n",
              "      <td>0</td>\n",
              "      <td>0</td>\n",
              "    </tr>\n",
              "    <tr>\n",
              "      <th>1</th>\n",
              "      <td>0.02731</td>\n",
              "      <td>0.0</td>\n",
              "      <td>7.07</td>\n",
              "      <td>0.0</td>\n",
              "      <td>0.469</td>\n",
              "      <td>6.421</td>\n",
              "      <td>78.9</td>\n",
              "      <td>4.9671</td>\n",
              "      <td>2.0</td>\n",
              "      <td>242.0</td>\n",
              "      <td>17.8</td>\n",
              "      <td>396.90</td>\n",
              "      <td>9.14</td>\n",
              "      <td>21.6</td>\n",
              "      <td>0</td>\n",
              "      <td>0</td>\n",
              "    </tr>\n",
              "    <tr>\n",
              "      <th>2</th>\n",
              "      <td>0.02729</td>\n",
              "      <td>0.0</td>\n",
              "      <td>7.07</td>\n",
              "      <td>0.0</td>\n",
              "      <td>0.469</td>\n",
              "      <td>7.185</td>\n",
              "      <td>61.1</td>\n",
              "      <td>4.9671</td>\n",
              "      <td>2.0</td>\n",
              "      <td>242.0</td>\n",
              "      <td>17.8</td>\n",
              "      <td>392.83</td>\n",
              "      <td>4.03</td>\n",
              "      <td>34.7</td>\n",
              "      <td>0</td>\n",
              "      <td>0</td>\n",
              "    </tr>\n",
              "    <tr>\n",
              "      <th>3</th>\n",
              "      <td>0.03237</td>\n",
              "      <td>0.0</td>\n",
              "      <td>2.18</td>\n",
              "      <td>0.0</td>\n",
              "      <td>0.458</td>\n",
              "      <td>6.998</td>\n",
              "      <td>45.8</td>\n",
              "      <td>6.0622</td>\n",
              "      <td>3.0</td>\n",
              "      <td>222.0</td>\n",
              "      <td>18.7</td>\n",
              "      <td>394.63</td>\n",
              "      <td>2.94</td>\n",
              "      <td>33.4</td>\n",
              "      <td>0</td>\n",
              "      <td>0</td>\n",
              "    </tr>\n",
              "    <tr>\n",
              "      <th>4</th>\n",
              "      <td>0.06905</td>\n",
              "      <td>0.0</td>\n",
              "      <td>2.18</td>\n",
              "      <td>0.0</td>\n",
              "      <td>0.458</td>\n",
              "      <td>7.147</td>\n",
              "      <td>54.2</td>\n",
              "      <td>6.0622</td>\n",
              "      <td>3.0</td>\n",
              "      <td>222.0</td>\n",
              "      <td>18.7</td>\n",
              "      <td>396.90</td>\n",
              "      <td>5.33</td>\n",
              "      <td>36.2</td>\n",
              "      <td>0</td>\n",
              "      <td>0</td>\n",
              "    </tr>\n",
              "  </tbody>\n",
              "</table>\n",
              "</div>"
            ],
            "text/plain": [
              "      CRIM    ZN  INDUS  ...  PRICE  NUMBER OF ROOMS  NITRIC OXIDES CONCENTRATION\n",
              "0  0.00632  18.0   2.31  ...   24.0                0                            0\n",
              "1  0.02731   0.0   7.07  ...   21.6                0                            0\n",
              "2  0.02729   0.0   7.07  ...   34.7                0                            0\n",
              "3  0.03237   0.0   2.18  ...   33.4                0                            0\n",
              "4  0.06905   0.0   2.18  ...   36.2                0                            0\n",
              "\n",
              "[5 rows x 16 columns]"
            ]
          },
          "metadata": {
            "tags": []
          },
          "execution_count": 58
        }
      ]
    },
    {
      "cell_type": "markdown",
      "metadata": {
        "id": "yU3zn-Tq34L2"
      },
      "source": [
        "#### Now, let's try machine learning regression models. "
      ]
    },
    {
      "cell_type": "markdown",
      "metadata": {
        "id": "BqQbLx5y34L4"
      },
      "source": [
        "## Algorithm1: Linear Regression"
      ]
    },
    {
      "cell_type": "code",
      "metadata": {
        "id": "IkDQnHEi34L6"
      },
      "source": [
        "# Creating Predictor variable 'X' and Target Variable 'y'\n",
        "\n",
        "# X contains all the features except for the target value Price\n",
        "X = boston.drop('PRICE', axis = 1)\n",
        "y = boston['PRICE']"
      ],
      "execution_count": null,
      "outputs": []
    },
    {
      "cell_type": "code",
      "metadata": {
        "id": "5LE_6pUI34L7"
      },
      "source": [
        "from sklearn.model_selection import train_test_split\n",
        "from sklearn.linear_model import LinearRegression"
      ],
      "execution_count": null,
      "outputs": []
    },
    {
      "cell_type": "markdown",
      "metadata": {
        "id": "yvfMcdLG34L8"
      },
      "source": [
        "#### Task-5: complete the following line of code which splits the data into training and test set: X_train contains 70% of total dataset, X_test contains 30% (10 points)"
      ]
    },
    {
      "cell_type": "code",
      "metadata": {
        "colab": {
          "base_uri": "https://localhost:8080/"
        },
        "id": "whQR5qpo34L9",
        "outputId": "13a5d87a-cb0f-4908-fb96-5f3f6d92ef1f"
      },
      "source": [
        "X_train, X_test, y_train, y_test =  train_test_split(X, y, test_size =0.3, random_state = 7)\n",
        "\n",
        "# X_train contains 70% of total dataset\n",
        "print(X_train.shape)\n",
        "# X_test contains 30% of total dataset\n",
        "print(X_test.shape)"
      ],
      "execution_count": null,
      "outputs": [
        {
          "output_type": "stream",
          "text": [
            "(354, 15)\n",
            "(152, 15)\n"
          ],
          "name": "stdout"
        }
      ]
    },
    {
      "cell_type": "code",
      "metadata": {
        "id": "RIkQzVXa34L_"
      },
      "source": [
        "lr = LinearRegression()"
      ],
      "execution_count": null,
      "outputs": []
    },
    {
      "cell_type": "markdown",
      "metadata": {
        "id": "NCW-ruaK34MA"
      },
      "source": [
        "#### Task-6: fit the training dataset into linear regression model. (7.5 points)"
      ]
    },
    {
      "cell_type": "code",
      "metadata": {
        "colab": {
          "base_uri": "https://localhost:8080/"
        },
        "id": "lqRv5hB834MC",
        "outputId": "27ed40df-3788-4073-fe95-71568c0ff287"
      },
      "source": [
        "#Train/fit the model to training data\n",
        "lr.fit(X_train, y_train) "
      ],
      "execution_count": null,
      "outputs": [
        {
          "output_type": "execute_result",
          "data": {
            "text/plain": [
              "LinearRegression(copy_X=True, fit_intercept=True, n_jobs=None, normalize=False)"
            ]
          },
          "metadata": {
            "tags": []
          },
          "execution_count": 81
        }
      ]
    },
    {
      "cell_type": "code",
      "metadata": {
        "colab": {
          "base_uri": "https://localhost:8080/",
          "height": 527
        },
        "id": "2qss3sUK34MD",
        "outputId": "b9fce6a0-99a3-43d7-dd8d-cad0452362ac"
      },
      "source": [
        "# print the intercept\n",
        "print(lr.intercept_)\n",
        "\n",
        "#Coefficients\n",
        "coeff_df = pd.DataFrame(lr.coef_,X.columns,columns=['Coefficient'])\n",
        "coeff_df"
      ],
      "execution_count": null,
      "outputs": [
        {
          "output_type": "stream",
          "text": [
            "23.562136725523885\n"
          ],
          "name": "stdout"
        },
        {
          "output_type": "execute_result",
          "data": {
            "text/html": [
              "<div>\n",
              "<style scoped>\n",
              "    .dataframe tbody tr th:only-of-type {\n",
              "        vertical-align: middle;\n",
              "    }\n",
              "\n",
              "    .dataframe tbody tr th {\n",
              "        vertical-align: top;\n",
              "    }\n",
              "\n",
              "    .dataframe thead th {\n",
              "        text-align: right;\n",
              "    }\n",
              "</style>\n",
              "<table border=\"1\" class=\"dataframe\">\n",
              "  <thead>\n",
              "    <tr style=\"text-align: right;\">\n",
              "      <th></th>\n",
              "      <th>Coefficient</th>\n",
              "    </tr>\n",
              "  </thead>\n",
              "  <tbody>\n",
              "    <tr>\n",
              "      <th>CRIM</th>\n",
              "      <td>-0.105682</td>\n",
              "    </tr>\n",
              "    <tr>\n",
              "      <th>ZN</th>\n",
              "      <td>0.027851</td>\n",
              "    </tr>\n",
              "    <tr>\n",
              "      <th>INDUS</th>\n",
              "      <td>0.019775</td>\n",
              "    </tr>\n",
              "    <tr>\n",
              "      <th>CHAS</th>\n",
              "      <td>2.749489</td>\n",
              "    </tr>\n",
              "    <tr>\n",
              "      <th>NOX</th>\n",
              "      <td>-15.567165</td>\n",
              "    </tr>\n",
              "    <tr>\n",
              "      <th>RM</th>\n",
              "      <td>5.314958</td>\n",
              "    </tr>\n",
              "    <tr>\n",
              "      <th>AGE</th>\n",
              "      <td>-0.010763</td>\n",
              "    </tr>\n",
              "    <tr>\n",
              "      <th>DIS</th>\n",
              "      <td>-1.312305</td>\n",
              "    </tr>\n",
              "    <tr>\n",
              "      <th>RAD</th>\n",
              "      <td>0.255971</td>\n",
              "    </tr>\n",
              "    <tr>\n",
              "      <th>TAX</th>\n",
              "      <td>-0.010679</td>\n",
              "    </tr>\n",
              "    <tr>\n",
              "      <th>PTRATIO</th>\n",
              "      <td>-0.961979</td>\n",
              "    </tr>\n",
              "    <tr>\n",
              "      <th>B</th>\n",
              "      <td>0.011888</td>\n",
              "    </tr>\n",
              "    <tr>\n",
              "      <th>LSTAT</th>\n",
              "      <td>-0.385699</td>\n",
              "    </tr>\n",
              "    <tr>\n",
              "      <th>NUMBER OF ROOMS</th>\n",
              "      <td>0.000000</td>\n",
              "    </tr>\n",
              "    <tr>\n",
              "      <th>NITRIC OXIDES CONCENTRATION</th>\n",
              "      <td>0.000000</td>\n",
              "    </tr>\n",
              "  </tbody>\n",
              "</table>\n",
              "</div>"
            ],
            "text/plain": [
              "                             Coefficient\n",
              "CRIM                           -0.105682\n",
              "ZN                              0.027851\n",
              "INDUS                           0.019775\n",
              "CHAS                            2.749489\n",
              "NOX                           -15.567165\n",
              "RM                              5.314958\n",
              "AGE                            -0.010763\n",
              "DIS                            -1.312305\n",
              "RAD                             0.255971\n",
              "TAX                            -0.010679\n",
              "PTRATIO                        -0.961979\n",
              "B                               0.011888\n",
              "LSTAT                          -0.385699\n",
              "NUMBER OF ROOMS                 0.000000\n",
              "NITRIC OXIDES CONCENTRATION     0.000000"
            ]
          },
          "metadata": {
            "tags": []
          },
          "execution_count": 82
        }
      ]
    },
    {
      "cell_type": "markdown",
      "metadata": {
        "id": "-g8vDr9B34MF"
      },
      "source": [
        "#### Task-7: complete the following line of codes which use the trained model above to predict the house prices on test dataset, and output the prediction result as \"pred\". (5 points)"
      ]
    },
    {
      "cell_type": "code",
      "metadata": {
        "id": "A3xUqTKF34MG"
      },
      "source": [
        "pred = lr.predict(X_test)"
      ],
      "execution_count": null,
      "outputs": []
    },
    {
      "cell_type": "code",
      "metadata": {
        "colab": {
          "base_uri": "https://localhost:8080/",
          "height": 300
        },
        "id": "eB5N-boH34MH",
        "outputId": "12ed876f-46b8-4f59-d6de-0c0e4e027c4d"
      },
      "source": [
        "plt.scatter(y_test,pred)\n",
        "plt.xlabel(\"Prices\")\n",
        "plt.ylabel(\"Predicted prices\")"
      ],
      "execution_count": null,
      "outputs": [
        {
          "output_type": "execute_result",
          "data": {
            "text/plain": [
              "Text(0, 0.5, 'Predicted prices')"
            ]
          },
          "metadata": {
            "tags": []
          },
          "execution_count": 84
        },
        {
          "output_type": "display_data",
          "data": {
            "image/png": "[encoded data removed]",
            "text/plain": [
              "<Figure size 432x288 with 1 Axes>"
            ]
          },
          "metadata": {
            "tags": [],
            "needs_background": "light"
          }
        }
      ]
    },
    {
      "cell_type": "code",
      "metadata": {
        "colab": {
          "base_uri": "https://localhost:8080/"
        },
        "id": "lgB6x9Yl34MI",
        "outputId": "a79a0bcb-14c0-49fa-bf6f-3e9c81e207d7"
      },
      "source": [
        "# evaluating and outputing the results using different evaluation metrics (i.e., MAE, MSE, RMSE).\n",
        "from sklearn import metrics\n",
        "print('MAE:', metrics.mean_absolute_error(y_test, pred))\n",
        "print('MSE:', metrics.mean_squared_error(y_test, pred))\n",
        "print('RMSE:', np.sqrt(metrics.mean_squared_error(y_test, pred)))"
      ],
      "execution_count": null,
      "outputs": [
        {
          "output_type": "stream",
          "text": [
            "MAE: 3.307638451069801\n",
            "MSE: 25.767879490836574\n",
            "RMSE: 5.076207195420275\n"
          ],
          "name": "stdout"
        }
      ]
    },
    {
      "cell_type": "markdown",
      "metadata": {
        "id": "NVeiAiIW34MJ"
      },
      "source": [
        "#### Task-8: Try Ridge or Lasso regressions  (set alpha=1.0) in the following steps. (20 points)"
      ]
    },
    {
      "cell_type": "code",
      "metadata": {
        "colab": {
          "base_uri": "https://localhost:8080/"
        },
        "id": "JrJKDS0O34MJ",
        "outputId": "1d2268f7-2388-42fb-81f8-affabcc10bf6"
      },
      "source": [
        "from sklearn.linear_model import Ridge\n",
        "#from sklearn.linear_model import Lasso\n",
        "\n",
        "#step-1: Create a ridge or lasso regression model\n",
        "Rd = Ridge(alpha=1.0)\n",
        "\n",
        "#step-2: Fit to our training data (i.e., X_train and y_train)\n",
        "Rd.fit(X_train, y_train)\n",
        "\n",
        "#step-3: Apply the model too predict on our testing data (i.e., X_test)\n",
        "pre = Rd.predict(X_test)\n",
        "    \n",
        "#step-4: Print prediction performance RMSE\n",
        "#print(pre)\n",
        "print('RMSE:', np.sqrt(metrics.mean_squared_error(y_test, pre)))\n"
      ],
      "execution_count": null,
      "outputs": [
        {
          "output_type": "stream",
          "text": [
            "RMSE: 5.126194504140097\n"
          ],
          "name": "stdout"
        }
      ]
    },
    {
      "cell_type": "code",
      "metadata": {
        "colab": {
          "base_uri": "https://localhost:8080/"
        },
        "id": "fz5qcEiQqJVr",
        "outputId": "304952ba-27fe-4eb3-cb9b-d1109e3aa97e"
      },
      "source": [
        "from sklearn.linear_model import Lasso\n",
        "\n",
        "#step-1: Create a ridge or lasso regression model\n",
        "Ls = Lasso(alpha=1.0)\n",
        "\n",
        "#step-2: Fit to our training data (i.e., X_train and y_train)\n",
        "Ls.fit(X_train, y_train)\n",
        "\n",
        "#step-3: Apply the model too predict on our testing data (i.e., X_test)\n",
        "pre = Ls.predict(X_test)\n",
        "    \n",
        "#step-4: Print prediction performance RMSE\n",
        "#print(pre)\n",
        "print('RMSE:', np.sqrt(metrics.mean_squared_error(y_test, pre)))"
      ],
      "execution_count": null,
      "outputs": [
        {
          "output_type": "stream",
          "text": [
            "RMSE: 4.889334135195888\n"
          ],
          "name": "stdout"
        }
      ]
    },
    {
      "cell_type": "markdown",
      "metadata": {
        "id": "gRPlkZhT34MK"
      },
      "source": [
        "#### Question: Is Ridge regression and Lasso regression linear regression?  What is differnece between Ridge and Lasso regressions? (7.5 points)"
      ]
    },
    {
      "cell_type": "markdown",
      "metadata": {
        "id": "VOU16PMt34ML"
      },
      "source": [
        "Answer:Both are linear regression, Ridge uses L2 regularization, that is, by adding constraints to make the coefficient as close to 0 as possible, Lasso used L1 regularization and makes the coefficient of some features exactly zero, and directly ignores some parameters for prediction."
      ]
    },
    {
      "cell_type": "markdown",
      "metadata": {
        "id": "JM77dSii34MM"
      },
      "source": [
        "## Algorithm2: Neural Networks - Regression"
      ]
    },
    {
      "cell_type": "code",
      "metadata": {
        "id": "7CIIhQ6n34MN"
      },
      "source": [
        "X = boston.drop('PRICE', axis = 1)\n",
        "Y = boston['PRICE']"
      ],
      "execution_count": null,
      "outputs": []
    },
    {
      "cell_type": "code",
      "metadata": {
        "id": "e4d6jXaj34MO"
      },
      "source": [
        "from sklearn import preprocessing\n",
        "from sklearn.preprocessing import MinMaxScaler\n"
      ],
      "execution_count": null,
      "outputs": []
    },
    {
      "cell_type": "markdown",
      "metadata": {
        "id": "NpmqhRME34MO"
      },
      "source": [
        "#### Task-9: complete the following codes which apply the preprocessing method MinMaxScaler to scale the given training data X  and assign the scaled training data to variable X_scale. (10 points)"
      ]
    },
    {
      "cell_type": "code",
      "metadata": {
        "id": "-dy_Mtfl34MP"
      },
      "source": [
        "min_max_scaler = MinMaxScaler()\n",
        "X_scale = min_max_scaler.fit_transform(X)"
      ],
      "execution_count": null,
      "outputs": []
    },
    {
      "cell_type": "markdown",
      "metadata": {
        "id": "gSVUGF6F34MP"
      },
      "source": [
        "#### Task-10: complete the following codes which first split the training data into training and validation_test sets (e.g., 70/30), then split the validation_test set into validation and test (e.g.,50/50). (10 points)"
      ]
    },
    {
      "cell_type": "code",
      "metadata": {
        "colab": {
          "base_uri": "https://localhost:8080/"
        },
        "id": "h9S4m9Zi34MQ",
        "outputId": "6ef072aa-ded5-488d-e3a5-83793ce2b80e"
      },
      "source": [
        "from sklearn.model_selection import train_test_split\n",
        "X_train, X_val_and_test, Y_train, Y_val_and_test = train_test_split(X_scale, Y, test_size=0.3, random_state=0)\n",
        "X_val, X_test, Y_val, Y_test =  train_test_split(X_val_and_test, Y_val_and_test, test_size=0.5, random_state=0)\n",
        "print(X_train.shape, X_val.shape, X_test.shape, Y_train.shape, Y_val.shape, Y_test.shape)"
      ],
      "execution_count": null,
      "outputs": [
        {
          "output_type": "stream",
          "text": [
            "(354, 15) (76, 15) (76, 15) (354,) (76,) (76,)\n"
          ],
          "name": "stdout"
        }
      ]
    },
    {
      "cell_type": "code",
      "metadata": {
        "id": "AvUkBOY634MQ"
      },
      "source": [
        "# import libraries of tensorflow to build neurral networks.\n",
        "import tensorflow as tf\n",
        "from tensorflow.keras.models import Sequential\n",
        "from tensorflow.keras.layers import Dense"
      ],
      "execution_count": null,
      "outputs": []
    },
    {
      "cell_type": "markdown",
      "metadata": {
        "id": "okvFiTyf34MR"
      },
      "source": [
        "#### Task-11: complete the following codes which build a two layers neural network model by using Sequential. (10 points)\n",
        "#### FYI: https://www.tensorflow.org/api_docs/python/tf/keras/Sequential"
      ]
    },
    {
      "cell_type": "code",
      "metadata": {
        "id": "Tgado6aa34MR"
      },
      "source": [
        "# Build model\n",
        "model = Sequential([\n",
        "    Dense(100, input_shape=(X_train.shape[1],),activation='relu'),\n",
        "    Dense(1),\n",
        "])"
      ],
      "execution_count": null,
      "outputs": []
    },
    {
      "cell_type": "markdown",
      "metadata": {
        "id": "GrncjayM34MS"
      },
      "source": [
        "#### Task-12: compile the model (use mean_squared_error as loss function, and apply metrics=['mse', 'mae', 'mape'])  (7.5 points)"
      ]
    },
    {
      "cell_type": "code",
      "metadata": {
        "id": "-uJ3ZC3I34MS"
      },
      "source": [
        "# Compile model\n",
        "model.compile(loss='mse',metrics=['mse', 'mae', 'mape'])"
      ],
      "execution_count": null,
      "outputs": []
    },
    {
      "cell_type": "markdown",
      "metadata": {
        "id": "EGcBEZaB34MT"
      },
      "source": [
        "#### Task-13: compelte the following codes which train/fit the model using the function of fit  (both training data and valiation data will be used)  (7.5 points)"
      ]
    },
    {
      "cell_type": "code",
      "metadata": {
        "colab": {
          "base_uri": "https://localhost:8080/"
        },
        "id": "XwVFWso134MU",
        "outputId": "35c76bff-e289-4bdf-fc11-e9a3afcae5ff"
      },
      "source": [
        "hist = model.fit(X_train, Y_train, epochs=30, validation_data=(X_val, Y_val), verbose=1, shuffle=True)"
      ],
      "execution_count": null,
      "outputs": [
        {
          "output_type": "stream",
          "text": [
            "Epoch 1/30\n",
            "12/12 [==============================] - 1s 18ms/step - loss: 560.1028 - mse: 560.1028 - mae: 21.8593 - mape: 99.2092 - val_loss: 523.7759 - val_mse: 523.7759 - val_mae: 20.6779 - val_mape: 94.8837\n",
            "Epoch 2/30\n",
            "12/12 [==============================] - 0s 4ms/step - loss: 576.8696 - mse: 576.8696 - mae: 22.0789 - mape: 94.8814 - val_loss: 496.8340 - val_mse: 496.8340 - val_mae: 19.9833 - val_mape: 90.6505\n",
            "Epoch 3/30\n",
            "12/12 [==============================] - 0s 4ms/step - loss: 540.5903 - mse: 540.5903 - mae: 21.1577 - mape: 90.9314 - val_loss: 468.5791 - val_mse: 468.5791 - val_mae: 19.2285 - val_mape: 86.0670\n",
            "Epoch 4/30\n",
            "12/12 [==============================] - 0s 4ms/step - loss: 477.7937 - mse: 477.7937 - mae: 19.7595 - mape: 86.3587 - val_loss: 437.9657 - val_mse: 437.9657 - val_mae: 18.3778 - val_mape: 80.9341\n",
            "Epoch 5/30\n",
            "12/12 [==============================] - 0s 5ms/step - loss: 466.0199 - mse: 466.0199 - mae: 19.3959 - mape: 82.3898 - val_loss: 406.7015 - val_mse: 406.7015 - val_mae: 17.4590 - val_mape: 75.3709\n",
            "Epoch 6/30\n",
            "12/12 [==============================] - 0s 5ms/step - loss: 425.3558 - mse: 425.3558 - mae: 18.4185 - mape: 77.8385 - val_loss: 376.3798 - val_mse: 376.3798 - val_mae: 16.5386 - val_mape: 70.1149\n",
            "Epoch 7/30\n",
            "12/12 [==============================] - 0s 4ms/step - loss: 411.1230 - mse: 411.1230 - mae: 17.5917 - mape: 72.2467 - val_loss: 345.5637 - val_mse: 345.5637 - val_mae: 15.5537 - val_mape: 64.6381\n",
            "Epoch 8/30\n",
            "12/12 [==============================] - 0s 4ms/step - loss: 381.3526 - mse: 381.3526 - mae: 16.8144 - mape: 68.0015 - val_loss: 316.2151 - val_mse: 316.2151 - val_mae: 14.6471 - val_mape: 60.3874\n",
            "Epoch 9/30\n",
            "12/12 [==============================] - 0s 4ms/step - loss: 347.8808 - mse: 347.8808 - mae: 15.7863 - mape: 63.4543 - val_loss: 284.7400 - val_mse: 284.7400 - val_mae: 13.6754 - val_mape: 56.4786\n",
            "Epoch 10/30\n",
            "12/12 [==============================] - 0s 4ms/step - loss: 325.0840 - mse: 325.0840 - mae: 15.0717 - mape: 59.7736 - val_loss: 257.5596 - val_mse: 257.5596 - val_mae: 12.7823 - val_mape: 53.1183\n",
            "Epoch 11/30\n",
            "12/12 [==============================] - 0s 4ms/step - loss: 283.8569 - mse: 283.8569 - mae: 13.7376 - mape: 53.8917 - val_loss: 231.0772 - val_mse: 231.0772 - val_mae: 11.9676 - val_mape: 50.8352\n",
            "Epoch 12/30\n",
            "12/12 [==============================] - 0s 4ms/step - loss: 248.5552 - mse: 248.5552 - mae: 12.4325 - mape: 48.6440 - val_loss: 207.2470 - val_mse: 207.2470 - val_mae: 11.2918 - val_mape: 49.7785\n",
            "Epoch 13/30\n",
            "12/12 [==============================] - 0s 4ms/step - loss: 245.0549 - mse: 245.0549 - mae: 12.5649 - mape: 51.2352 - val_loss: 187.1261 - val_mse: 187.1261 - val_mae: 10.7297 - val_mape: 49.4531\n",
            "Epoch 14/30\n",
            "12/12 [==============================] - 0s 4ms/step - loss: 182.8669 - mse: 182.8669 - mae: 10.5714 - mape: 44.6409 - val_loss: 169.6441 - val_mse: 169.6441 - val_mae: 10.2231 - val_mape: 49.6774\n",
            "Epoch 15/30\n",
            "12/12 [==============================] - 0s 4ms/step - loss: 182.5982 - mse: 182.5982 - mae: 10.5179 - mape: 43.6581 - val_loss: 157.5497 - val_mse: 157.5497 - val_mae: 9.8779 - val_mape: 50.3061\n",
            "Epoch 16/30\n",
            "12/12 [==============================] - 0s 4ms/step - loss: 160.1050 - mse: 160.1050 - mae: 9.7603 - mape: 43.0487 - val_loss: 146.9782 - val_mse: 146.9782 - val_mae: 9.5708 - val_mape: 51.5110\n",
            "Epoch 17/30\n",
            "12/12 [==============================] - 0s 4ms/step - loss: 169.1458 - mse: 169.1458 - mae: 10.1137 - mape: 46.2256 - val_loss: 139.1062 - val_mse: 139.1062 - val_mae: 9.2952 - val_mape: 52.1520\n",
            "Epoch 18/30\n",
            "12/12 [==============================] - 0s 4ms/step - loss: 165.8317 - mse: 165.8317 - mae: 9.9171 - mape: 45.0284 - val_loss: 133.1634 - val_mse: 133.1634 - val_mae: 9.0290 - val_mape: 52.6436\n",
            "Epoch 19/30\n",
            "12/12 [==============================] - 0s 5ms/step - loss: 134.5694 - mse: 134.5694 - mae: 8.9087 - mape: 43.0652 - val_loss: 128.2253 - val_mse: 128.2253 - val_mae: 8.8213 - val_mape: 53.1724\n",
            "Epoch 20/30\n",
            "12/12 [==============================] - 0s 4ms/step - loss: 138.4742 - mse: 138.4742 - mae: 9.1491 - mape: 46.0516 - val_loss: 123.9096 - val_mse: 123.9096 - val_mae: 8.6526 - val_mape: 52.6658\n",
            "Epoch 21/30\n",
            "12/12 [==============================] - 0s 4ms/step - loss: 137.9671 - mse: 137.9671 - mae: 9.0203 - mape: 43.5316 - val_loss: 118.4448 - val_mse: 118.4448 - val_mae: 8.4305 - val_mape: 50.9546\n",
            "Epoch 22/30\n",
            "12/12 [==============================] - 0s 4ms/step - loss: 116.7095 - mse: 116.7095 - mae: 8.4285 - mape: 45.0079 - val_loss: 114.5829 - val_mse: 114.5829 - val_mae: 8.2784 - val_mape: 50.6807\n",
            "Epoch 23/30\n",
            "12/12 [==============================] - 0s 5ms/step - loss: 111.2817 - mse: 111.2817 - mae: 8.1726 - mape: 44.9022 - val_loss: 111.8248 - val_mse: 111.8248 - val_mae: 8.1850 - val_mape: 51.7109\n",
            "Epoch 24/30\n",
            "12/12 [==============================] - 0s 4ms/step - loss: 96.9720 - mse: 96.9720 - mae: 7.5628 - mape: 39.9637 - val_loss: 108.7487 - val_mse: 108.7487 - val_mae: 8.0540 - val_mape: 51.0396\n",
            "Epoch 25/30\n",
            "12/12 [==============================] - 0s 4ms/step - loss: 100.2297 - mse: 100.2297 - mae: 7.5074 - mape: 39.8029 - val_loss: 104.7369 - val_mse: 104.7369 - val_mae: 7.8774 - val_mape: 49.4120\n",
            "Epoch 26/30\n",
            "12/12 [==============================] - 0s 5ms/step - loss: 108.1482 - mse: 108.1482 - mae: 7.8951 - mape: 41.8898 - val_loss: 101.7675 - val_mse: 101.7675 - val_mae: 7.7395 - val_mape: 48.9812\n",
            "Epoch 27/30\n",
            "12/12 [==============================] - 0s 5ms/step - loss: 93.5989 - mse: 93.5989 - mae: 7.4794 - mape: 41.8300 - val_loss: 96.5949 - val_mse: 96.5949 - val_mae: 7.4918 - val_mape: 46.7322\n",
            "Epoch 28/30\n",
            "12/12 [==============================] - 0s 4ms/step - loss: 94.1623 - mse: 94.1623 - mae: 7.3194 - mape: 35.9686 - val_loss: 92.5709 - val_mse: 92.5709 - val_mae: 7.2811 - val_mape: 44.5233\n",
            "Epoch 29/30\n",
            "12/12 [==============================] - 0s 5ms/step - loss: 84.9318 - mse: 84.9318 - mae: 6.8113 - mape: 34.3041 - val_loss: 89.4351 - val_mse: 89.4351 - val_mae: 7.1445 - val_mape: 44.0612\n",
            "Epoch 30/30\n",
            "12/12 [==============================] - 0s 4ms/step - loss: 93.8751 - mse: 93.8751 - mae: 7.1995 - mape: 36.3025 - val_loss: 86.3648 - val_mse: 86.3648 - val_mae: 7.0356 - val_mape: 43.7401\n"
          ],
          "name": "stdout"
        }
      ]
    },
    {
      "cell_type": "code",
      "metadata": {
        "colab": {
          "base_uri": "https://localhost:8080/",
          "height": 295
        },
        "id": "vAucN8HE34MU",
        "outputId": "9ee68257-72d4-4814-9aef-ae79b059bfcb"
      },
      "source": [
        "plt.plot(hist.history['mse'])\n",
        "plt.plot(hist.history['val_mse'])\n",
        "plt.title('Model Performance')\n",
        "plt.ylabel('MSE')\n",
        "plt.xlabel('Epoch')\n",
        "plt.legend(['Train', 'Val'], loc='upper right')\n",
        "plt.show()"
      ],
      "execution_count": null,
      "outputs": [
        {
          "output_type": "display_data",
          "data": {
            "image/png": "[encoded data removed]",
            "text/plain": [
              "<Figure size 432x288 with 1 Axes>"
            ]
          },
          "metadata": {
            "tags": [],
            "needs_background": "light"
          }
        }
      ]
    },
    {
      "cell_type": "markdown",
      "metadata": {
        "id": "txDQyz6S34MV"
      },
      "source": [
        "#### Task-14: evaluate the model on X_test and Y_test by applying the method 'evaluate'  (5 points)"
      ]
    },
    {
      "cell_type": "code",
      "metadata": {
        "colab": {
          "base_uri": "https://localhost:8080/"
        },
        "id": "WBpRh20e34MW",
        "outputId": "8bc1cac8-8389-4dbd-b860-b3c230c658d6"
      },
      "source": [
        "# Evaluation\n",
        "model.evaluate(X_test, Y_test)\n"
      ],
      "execution_count": null,
      "outputs": [
        {
          "output_type": "stream",
          "text": [
            "3/3 [==============================] - 0s 4ms/step - loss: 65.4988 - mse: 65.4988 - mae: 5.7037 - mape: 29.0069\n"
          ],
          "name": "stdout"
        },
        {
          "output_type": "execute_result",
          "data": {
            "text/plain": [
              "[65.49882507324219, 65.49882507324219, 5.703662872314453, 29.00694465637207]"
            ]
          },
          "metadata": {
            "tags": []
          },
          "execution_count": 127
        }
      ]
    },
    {
      "cell_type": "markdown",
      "metadata": {
        "id": "ui6WWLe034MX"
      },
      "source": [
        "#### NON-mandatory task: if you have time/interest, you can visualize the prediction result and labels using scatter."
      ]
    },
    {
      "cell_type": "code",
      "metadata": {
        "id": "dL0eLds834MX"
      },
      "source": [
        ""
      ],
      "execution_count": null,
      "outputs": []
    },
    {
      "cell_type": "markdown",
      "metadata": {
        "id": "MLOlw5nP34MY"
      },
      "source": [
        "#### Task-15:  complete the following codes to build the second neural network model with one more layer, compile, train, and evaluate the model.  (15 points)"
      ]
    },
    {
      "cell_type": "code",
      "metadata": {
        "colab": {
          "base_uri": "https://localhost:8080/"
        },
        "id": "xKhxWxTg34MY",
        "outputId": "add2f8d2-a26a-4b51-ce54-2b62afc4065a"
      },
      "source": [
        "# step-1: Build the second model with different settings\n",
        "model_2 = Sequential([\n",
        "    Dense(100, input_shape=(X_train.shape[1],), activation='relu'),\n",
        "    Dense(64),\n",
        "    Dense(1),\n",
        "])\n",
        "\n",
        "# step-2: Compile model\n",
        "model_2.compile(loss='mse',metrics=['mse', 'mae', 'mape'])\n",
        "\n",
        "# step-3: Train/Fit the model\n",
        "hist_2 =  model_2.fit(X_train, Y_train, epochs=30, validation_data=(X_val, Y_val), verbose=1, shuffle=True)\n",
        "# step-4: Evaluation\n",
        "model_2.evaluate(X_test, Y_test)"
      ],
      "execution_count": null,
      "outputs": [
        {
          "output_type": "stream",
          "text": [
            "Epoch 1/30\n",
            "12/12 [==============================] - 1s 18ms/step - loss: 546.1178 - mse: 546.1178 - mae: 21.6141 - mape: 95.6103 - val_loss: 422.4695 - val_mse: 422.4695 - val_mae: 17.8956 - val_mape: 77.7796\n",
            "Epoch 2/30\n",
            "12/12 [==============================] - 0s 5ms/step - loss: 448.0432 - mse: 448.0432 - mae: 18.5810 - mape: 75.5682 - val_loss: 272.6956 - val_mse: 272.6956 - val_mae: 13.3023 - val_mape: 55.3076\n",
            "Epoch 3/30\n",
            "12/12 [==============================] - 0s 4ms/step - loss: 278.8589 - mse: 278.8589 - mae: 13.4825 - mape: 53.0914 - val_loss: 175.5894 - val_mse: 175.5894 - val_mae: 10.4161 - val_mape: 49.4938\n",
            "Epoch 4/30\n",
            "12/12 [==============================] - 0s 4ms/step - loss: 147.5278 - mse: 147.5278 - mae: 9.4196 - mape: 42.8924 - val_loss: 131.6196 - val_mse: 131.6196 - val_mae: 9.0098 - val_mape: 53.5037\n",
            "Epoch 5/30\n",
            "12/12 [==============================] - 0s 4ms/step - loss: 114.3576 - mse: 114.3576 - mae: 8.3705 - mape: 43.9708 - val_loss: 110.7037 - val_mse: 110.7037 - val_mae: 8.1532 - val_mape: 50.7161\n",
            "Epoch 6/30\n",
            "12/12 [==============================] - 0s 4ms/step - loss: 98.7142 - mse: 98.7142 - mae: 7.6385 - mape: 38.8416 - val_loss: 92.8122 - val_mse: 92.8122 - val_mae: 7.2703 - val_mape: 40.6726\n",
            "Epoch 7/30\n",
            "12/12 [==============================] - 0s 4ms/step - loss: 81.3515 - mse: 81.3515 - mae: 6.7111 - mape: 34.2271 - val_loss: 78.0471 - val_mse: 78.0471 - val_mae: 6.5870 - val_mape: 39.5956\n",
            "Epoch 8/30\n",
            "12/12 [==============================] - 0s 4ms/step - loss: 75.7215 - mse: 75.7215 - mae: 6.1940 - mape: 31.9818 - val_loss: 70.0659 - val_mse: 70.0659 - val_mae: 6.4938 - val_mape: 40.9726\n",
            "Epoch 9/30\n",
            "12/12 [==============================] - 0s 4ms/step - loss: 61.6671 - mse: 61.6671 - mae: 5.7815 - mape: 30.1363 - val_loss: 60.6700 - val_mse: 60.6700 - val_mae: 5.8241 - val_mape: 34.7056\n",
            "Epoch 10/30\n",
            "12/12 [==============================] - 0s 4ms/step - loss: 54.1730 - mse: 54.1730 - mae: 5.4165 - mape: 28.0820 - val_loss: 57.6175 - val_mse: 57.6175 - val_mae: 5.6618 - val_mape: 33.1537\n",
            "Epoch 11/30\n",
            "12/12 [==============================] - 0s 5ms/step - loss: 47.9517 - mse: 47.9517 - mae: 5.1226 - mape: 26.8794 - val_loss: 57.1430 - val_mse: 57.1430 - val_mae: 5.8172 - val_mape: 34.4389\n",
            "Epoch 12/30\n",
            "12/12 [==============================] - 0s 5ms/step - loss: 48.6193 - mse: 48.6193 - mae: 5.1131 - mape: 26.0023 - val_loss: 54.3280 - val_mse: 54.3280 - val_mae: 5.0256 - val_mape: 24.8583\n",
            "Epoch 13/30\n",
            "12/12 [==============================] - 0s 4ms/step - loss: 45.8698 - mse: 45.8698 - mae: 4.6659 - mape: 21.3449 - val_loss: 52.4976 - val_mse: 52.4976 - val_mae: 4.9030 - val_mape: 24.0376\n",
            "Epoch 14/30\n",
            "12/12 [==============================] - 0s 4ms/step - loss: 38.5559 - mse: 38.5559 - mae: 4.1208 - mape: 19.4801 - val_loss: 49.3663 - val_mse: 49.3663 - val_mae: 4.8802 - val_mape: 24.6517\n",
            "Epoch 15/30\n",
            "12/12 [==============================] - 0s 4ms/step - loss: 41.3878 - mse: 41.3878 - mae: 4.5478 - mape: 20.8090 - val_loss: 48.4945 - val_mse: 48.4945 - val_mae: 5.2003 - val_mape: 28.6929\n",
            "Epoch 16/30\n",
            "12/12 [==============================] - 0s 4ms/step - loss: 35.5119 - mse: 35.5119 - mae: 4.3236 - mape: 21.3589 - val_loss: 47.4195 - val_mse: 47.4195 - val_mae: 5.1513 - val_mape: 28.5250\n",
            "Epoch 17/30\n",
            "12/12 [==============================] - 0s 4ms/step - loss: 36.0154 - mse: 36.0154 - mae: 4.3589 - mape: 21.8666 - val_loss: 44.4008 - val_mse: 44.4008 - val_mae: 4.7926 - val_mape: 25.0511\n",
            "Epoch 18/30\n",
            "12/12 [==============================] - 0s 4ms/step - loss: 36.4648 - mse: 36.4648 - mae: 4.1753 - mape: 19.2554 - val_loss: 48.3403 - val_mse: 48.3403 - val_mae: 4.5574 - val_mape: 21.0552\n",
            "Epoch 19/30\n",
            "12/12 [==============================] - 0s 5ms/step - loss: 30.3451 - mse: 30.3451 - mae: 3.7855 - mape: 17.3677 - val_loss: 43.2642 - val_mse: 43.2642 - val_mae: 4.4594 - val_mape: 21.6645\n",
            "Epoch 20/30\n",
            "12/12 [==============================] - 0s 5ms/step - loss: 32.1970 - mse: 32.1970 - mae: 4.0051 - mape: 18.5527 - val_loss: 44.8937 - val_mse: 44.8937 - val_mae: 4.4255 - val_mape: 20.6077\n",
            "Epoch 21/30\n",
            "12/12 [==============================] - 0s 4ms/step - loss: 35.3523 - mse: 35.3523 - mae: 4.0256 - mape: 17.9694 - val_loss: 39.3747 - val_mse: 39.3747 - val_mae: 4.4139 - val_mape: 22.5405\n",
            "Epoch 22/30\n",
            "12/12 [==============================] - 0s 4ms/step - loss: 27.8684 - mse: 27.8684 - mae: 3.7695 - mape: 17.0842 - val_loss: 38.1081 - val_mse: 38.1081 - val_mae: 4.2407 - val_mape: 21.1580\n",
            "Epoch 23/30\n",
            "12/12 [==============================] - 0s 4ms/step - loss: 21.7299 - mse: 21.7299 - mae: 3.3502 - mape: 15.8138 - val_loss: 37.1639 - val_mse: 37.1639 - val_mae: 4.4603 - val_mape: 24.2399\n",
            "Epoch 24/30\n",
            "12/12 [==============================] - 0s 5ms/step - loss: 22.9936 - mse: 22.9936 - mae: 3.3233 - mape: 16.0563 - val_loss: 34.8773 - val_mse: 34.8773 - val_mae: 4.1027 - val_mape: 21.3568\n",
            "Epoch 25/30\n",
            "12/12 [==============================] - 0s 4ms/step - loss: 23.4252 - mse: 23.4252 - mae: 3.3736 - mape: 15.9561 - val_loss: 40.0515 - val_mse: 40.0515 - val_mae: 4.1192 - val_mape: 18.7976\n",
            "Epoch 26/30\n",
            "12/12 [==============================] - 0s 4ms/step - loss: 23.9543 - mse: 23.9543 - mae: 3.3110 - mape: 15.6523 - val_loss: 36.0660 - val_mse: 36.0660 - val_mae: 3.9383 - val_mape: 18.6116\n",
            "Epoch 27/30\n",
            "12/12 [==============================] - 0s 6ms/step - loss: 21.3081 - mse: 21.3081 - mae: 3.0913 - mape: 14.5890 - val_loss: 32.7585 - val_mse: 32.7585 - val_mae: 3.7794 - val_mape: 18.8883\n",
            "Epoch 28/30\n",
            "12/12 [==============================] - 0s 5ms/step - loss: 20.3186 - mse: 20.3186 - mae: 3.1768 - mape: 15.2106 - val_loss: 34.1043 - val_mse: 34.1043 - val_mae: 3.8158 - val_mape: 18.2406\n",
            "Epoch 29/30\n",
            "12/12 [==============================] - 0s 4ms/step - loss: 20.6339 - mse: 20.6339 - mae: 3.0915 - mape: 14.9828 - val_loss: 32.0653 - val_mse: 32.0653 - val_mae: 3.6901 - val_mape: 18.0756\n",
            "Epoch 30/30\n",
            "12/12 [==============================] - 0s 5ms/step - loss: 20.8560 - mse: 20.8560 - mae: 3.0657 - mape: 14.1023 - val_loss: 32.7598 - val_mse: 32.7598 - val_mae: 3.7218 - val_mape: 17.7943\n",
            "3/3 [==============================] - 0s 2ms/step - loss: 26.4356 - mse: 26.4356 - mae: 3.5348 - mape: 15.9453\n"
          ],
          "name": "stdout"
        },
        {
          "output_type": "execute_result",
          "data": {
            "text/plain": [
              "[26.435606002807617,\n",
              " 26.435606002807617,\n",
              " 3.5347819328308105,\n",
              " 15.945280075073242]"
            ]
          },
          "metadata": {
            "tags": []
          },
          "execution_count": 135
        }
      ]
    },
    {
      "cell_type": "code",
      "metadata": {
        "colab": {
          "base_uri": "https://localhost:8080/",
          "height": 295
        },
        "id": "RM3-PpVM34MZ",
        "outputId": "4d94b8bb-94ca-46bd-aa11-2cb337afccce"
      },
      "source": [
        "plt.plot(hist_2.history['mse'])\n",
        "plt.plot(hist_2.history['val_mse'])\n",
        "plt.title('Model Performance')\n",
        "plt.ylabel('MSE')\n",
        "plt.xlabel('Epoch')\n",
        "plt.legend(['Train', 'Val'], loc='upper right')\n",
        "plt.show()"
      ],
      "execution_count": null,
      "outputs": [
        {
          "output_type": "display_data",
          "data": {
            "image/png": "[encoded data removed]",
            "text/plain": [
              "<Figure size 432x288 with 1 Axes>"
            ]
          },
          "metadata": {
            "tags": [],
            "needs_background": "light"
          }
        }
      ]
    },
    {
      "cell_type": "code",
      "metadata": {
        "id": "DPGuAh1m34Ma"
      },
      "source": [
        "from tensorflow.keras import regularizers\n",
        "from tensorflow.keras.layers import Dropout"
      ],
      "execution_count": null,
      "outputs": []
    },
    {
      "cell_type": "markdown",
      "metadata": {
        "id": "BU4S_Ix-34Ma"
      },
      "source": [
        "#### Task-16:  complete the following codes (steps1 - step4) to build the third neural network with different settings (try regularizer parameter and dropout), compile, train, evaluate, and predict as above.  (20 points)"
      ]
    },
    {
      "cell_type": "code",
      "metadata": {
        "colab": {
          "base_uri": "https://localhost:8080/",
          "height": 1000
        },
        "id": "qFc4VgQb34Mb",
        "outputId": "825bad3c-6c66-4b39-8bfa-50c413d0a02a"
      },
      "source": [
        "# step-1: Build model \n",
        "model_3 = Sequential([\n",
        "    Dense(100, input_shape=(X_train.shape[1],), activation='relu'),\n",
        "    Dropout(0.2),\n",
        "    Dense(64,activation='relu'),\n",
        "    Dropout(0.2),\n",
        "    Dense(32,activation='relu'),\n",
        "    Dropout(0.2),\n",
        "    Dense(1),\n",
        "])\n",
        "\n",
        "# step-2: Compile model\n",
        "model_3.compile(loss='mse',metrics=['mse', 'mae', 'mape'])\n",
        "\n",
        "# step-3: Train/Fit the model\n",
        "hist_3 =  model_3.fit(X_train, Y_train, epochs=30, validation_data=(X_val, Y_val), verbose=1, shuffle=True)\n",
        "# step-4: Evalution\n",
        "model_3.evaluate(X_test, Y_test)\n",
        "\n",
        "plt.plot(hist_3.history['mse'])\n",
        "plt.plot(hist_3.history['val_mse'])\n",
        "plt.title('Model Performance')\n",
        "plt.ylabel('MSE')\n",
        "plt.xlabel('Epoch')\n",
        "plt.legend(['Train', 'Val'], loc='upper right')\n",
        "plt.show()"
      ],
      "execution_count": null,
      "outputs": [
        {
          "output_type": "stream",
          "text": [
            "Epoch 1/30\n",
            "12/12 [==============================] - 1s 19ms/step - loss: 569.5974 - mse: 569.5974 - mae: 22.0300 - mape: 97.4876 - val_loss: 462.2963 - val_mse: 462.2963 - val_mae: 19.0850 - val_mape: 85.4461\n",
            "Epoch 2/30\n",
            "12/12 [==============================] - 0s 4ms/step - loss: 445.8941 - mse: 445.8941 - mae: 18.9613 - mape: 81.5663 - val_loss: 307.4426 - val_mse: 307.4426 - val_mae: 14.3966 - val_mape: 59.2448\n",
            "Epoch 3/30\n",
            "12/12 [==============================] - 0s 4ms/step - loss: 330.6859 - mse: 330.6859 - mae: 14.9792 - mape: 57.8560 - val_loss: 161.8987 - val_mse: 161.8987 - val_mae: 9.7165 - val_mape: 46.3107\n",
            "Epoch 4/30\n",
            "12/12 [==============================] - 0s 5ms/step - loss: 169.9653 - mse: 169.9653 - mae: 10.0339 - mape: 45.0318 - val_loss: 122.9861 - val_mse: 122.9861 - val_mae: 8.5280 - val_mape: 49.6809\n",
            "Epoch 5/30\n",
            "12/12 [==============================] - 0s 5ms/step - loss: 125.0828 - mse: 125.0828 - mae: 8.4160 - mape: 41.1186 - val_loss: 111.7510 - val_mse: 111.7510 - val_mae: 8.2277 - val_mape: 53.7460\n",
            "Epoch 6/30\n",
            "12/12 [==============================] - 0s 4ms/step - loss: 100.5139 - mse: 100.5139 - mae: 7.7509 - mape: 39.9250 - val_loss: 96.9912 - val_mse: 96.9912 - val_mae: 7.7266 - val_mape: 50.4086\n",
            "Epoch 7/30\n",
            "12/12 [==============================] - 0s 4ms/step - loss: 106.7448 - mse: 106.7448 - mae: 8.0790 - mape: 40.7084 - val_loss: 76.0918 - val_mse: 76.0918 - val_mae: 6.3924 - val_mape: 37.0139\n",
            "Epoch 8/30\n",
            "12/12 [==============================] - 0s 4ms/step - loss: 101.1598 - mse: 101.1598 - mae: 7.4112 - mape: 38.1048 - val_loss: 67.8848 - val_mse: 67.8848 - val_mae: 5.8698 - val_mape: 31.7263\n",
            "Epoch 9/30\n",
            "12/12 [==============================] - 0s 4ms/step - loss: 86.4661 - mse: 86.4661 - mae: 6.5432 - mape: 31.0062 - val_loss: 67.5676 - val_mse: 67.5676 - val_mae: 5.7072 - val_mape: 27.6962\n",
            "Epoch 10/30\n",
            "12/12 [==============================] - 0s 5ms/step - loss: 89.1338 - mse: 89.1338 - mae: 6.6752 - mape: 30.4100 - val_loss: 61.8755 - val_mse: 61.8755 - val_mae: 5.4450 - val_mape: 26.8924\n",
            "Epoch 11/30\n",
            "12/12 [==============================] - 0s 4ms/step - loss: 72.5676 - mse: 72.5676 - mae: 6.3820 - mape: 28.5168 - val_loss: 62.2817 - val_mse: 62.2817 - val_mae: 5.3295 - val_mape: 24.7049\n",
            "Epoch 12/30\n",
            "12/12 [==============================] - 0s 4ms/step - loss: 66.8984 - mse: 66.8984 - mae: 6.2132 - mape: 28.5087 - val_loss: 53.4427 - val_mse: 53.4427 - val_mae: 5.0642 - val_mape: 25.5243\n",
            "Epoch 13/30\n",
            "12/12 [==============================] - 0s 4ms/step - loss: 56.4359 - mse: 56.4359 - mae: 5.4240 - mape: 24.9662 - val_loss: 51.3183 - val_mse: 51.3183 - val_mae: 5.3688 - val_mape: 29.4153\n",
            "Epoch 14/30\n",
            "12/12 [==============================] - 0s 6ms/step - loss: 66.8717 - mse: 66.8717 - mae: 5.9075 - mape: 27.4490 - val_loss: 52.4856 - val_mse: 52.4856 - val_mae: 5.6323 - val_mape: 31.8625\n",
            "Epoch 15/30\n",
            "12/12 [==============================] - 0s 5ms/step - loss: 55.6697 - mse: 55.6697 - mae: 5.6763 - mape: 26.8358 - val_loss: 46.8134 - val_mse: 46.8134 - val_mae: 4.8763 - val_mape: 25.4340\n",
            "Epoch 16/30\n",
            "12/12 [==============================] - 0s 5ms/step - loss: 49.7127 - mse: 49.7127 - mae: 5.2722 - mape: 26.2236 - val_loss: 46.8399 - val_mse: 46.8399 - val_mae: 4.5849 - val_mape: 22.4863\n",
            "Epoch 17/30\n",
            "12/12 [==============================] - 0s 5ms/step - loss: 43.8470 - mse: 43.8470 - mae: 4.8166 - mape: 21.9658 - val_loss: 44.5659 - val_mse: 44.5659 - val_mae: 4.5410 - val_mape: 22.6915\n",
            "Epoch 18/30\n",
            "12/12 [==============================] - 0s 7ms/step - loss: 61.9886 - mse: 61.9886 - mae: 5.6892 - mape: 26.9468 - val_loss: 43.2705 - val_mse: 43.2705 - val_mae: 4.4499 - val_mape: 21.6236\n",
            "Epoch 19/30\n",
            "12/12 [==============================] - 0s 5ms/step - loss: 52.9997 - mse: 52.9997 - mae: 5.2556 - mape: 23.9754 - val_loss: 44.8792 - val_mse: 44.8792 - val_mae: 5.1841 - val_mape: 29.0288\n",
            "Epoch 20/30\n",
            "12/12 [==============================] - 0s 6ms/step - loss: 46.4512 - mse: 46.4512 - mae: 5.1622 - mape: 24.4308 - val_loss: 44.4160 - val_mse: 44.4160 - val_mae: 4.2737 - val_mape: 19.4403\n",
            "Epoch 21/30\n",
            "12/12 [==============================] - 0s 5ms/step - loss: 43.9504 - mse: 43.9504 - mae: 4.8971 - mape: 23.1043 - val_loss: 40.3574 - val_mse: 40.3574 - val_mae: 4.0944 - val_mape: 19.2560\n",
            "Epoch 22/30\n",
            "12/12 [==============================] - 0s 5ms/step - loss: 48.3313 - mse: 48.3313 - mae: 5.0196 - mape: 21.6902 - val_loss: 37.5266 - val_mse: 37.5266 - val_mae: 4.0122 - val_mape: 19.3065\n",
            "Epoch 23/30\n",
            "12/12 [==============================] - 0s 5ms/step - loss: 52.8763 - mse: 52.8763 - mae: 5.2633 - mape: 22.7288 - val_loss: 37.1892 - val_mse: 37.1892 - val_mae: 3.9382 - val_mape: 18.6545\n",
            "Epoch 24/30\n",
            "12/12 [==============================] - 0s 5ms/step - loss: 38.9371 - mse: 38.9371 - mae: 4.5809 - mape: 21.4230 - val_loss: 34.5825 - val_mse: 34.5825 - val_mae: 3.9427 - val_mape: 19.7192\n",
            "Epoch 25/30\n",
            "12/12 [==============================] - 0s 5ms/step - loss: 33.8724 - mse: 33.8724 - mae: 4.4087 - mape: 21.2646 - val_loss: 33.1963 - val_mse: 33.1963 - val_mae: 3.9211 - val_mape: 20.2498\n",
            "Epoch 26/30\n",
            "12/12 [==============================] - 0s 5ms/step - loss: 41.9495 - mse: 41.9495 - mae: 4.6802 - mape: 22.7773 - val_loss: 52.4520 - val_mse: 52.4520 - val_mae: 5.0117 - val_mape: 21.9322\n",
            "Epoch 27/30\n",
            "12/12 [==============================] - 0s 5ms/step - loss: 36.7732 - mse: 36.7732 - mae: 4.5178 - mape: 20.4337 - val_loss: 32.3054 - val_mse: 32.3054 - val_mae: 3.7635 - val_mape: 19.1227\n",
            "Epoch 28/30\n",
            "12/12 [==============================] - 0s 5ms/step - loss: 40.4703 - mse: 40.4703 - mae: 4.6770 - mape: 21.9420 - val_loss: 31.8145 - val_mse: 31.8145 - val_mae: 3.7951 - val_mape: 19.7573\n",
            "Epoch 29/30\n",
            "12/12 [==============================] - 0s 5ms/step - loss: 46.6753 - mse: 46.6753 - mae: 5.0784 - mape: 22.3506 - val_loss: 31.9268 - val_mse: 31.9268 - val_mae: 4.0099 - val_mape: 22.6410\n",
            "Epoch 30/30\n",
            "12/12 [==============================] - 0s 4ms/step - loss: 41.2948 - mse: 41.2948 - mae: 4.6854 - mape: 21.8165 - val_loss: 30.8678 - val_mse: 30.8678 - val_mae: 3.8202 - val_mape: 20.8236\n",
            "3/3 [==============================] - 0s 4ms/step - loss: 27.1811 - mse: 27.1811 - mae: 3.6678 - mape: 17.7138\n"
          ],
          "name": "stdout"
        },
        {
          "output_type": "display_data",
          "data": {
            "image/png": "[encoded data removed]",
            "text/plain": [
              "<Figure size 432x288 with 1 Axes>"
            ]
          },
          "metadata": {
            "tags": [],
            "needs_background": "light"
          }
        }
      ]
    },
    {
      "cell_type": "markdown",
      "metadata": {
        "id": "YJu73f9w34Mc"
      },
      "source": [
        "#### Congratualtions if you ran through above!  "
      ]
    }
  ]
}