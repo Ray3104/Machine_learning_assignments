{
  "nbformat": 4,
  "nbformat_minor": 0,
  "metadata": {
    "kernelspec": {
      "display_name": "Python 3",
      "language": "python",
      "name": "python3"
    },
    "language_info": {
      "codemirror_mode": {
        "name": "ipython",
        "version": 3
      },
      "file_extension": ".py",
      "mimetype": "text/x-python",
      "name": "python",
      "nbconvert_exporter": "python",
      "pygments_lexer": "ipython3",
      "version": "3.8.5"
    },
    "colab": {
      "name": "Assignment1_classification.ipynb",
      "provenance": [],
      "collapsed_sections": [
        "d8cX2_N0L3vW",
        "eV-zDwDwL3vc",
        "xZjIccPPL3vc",
        "A4h0kJGtL3vc",
        "kE1tNtB1L3vd",
        "gIld8QwsL3vd",
        "zhbh4t8HL3vd",
        "Snjsli3zL3ve",
        "Di6wPwFhL3ve",
        "jple2JZpL3ve",
        "ZwFEQNi2L3ve",
        "-ToGqROLL3vf",
        "iFw-jo57L3vf"
      ],
      "include_colab_link": true
    }
  },
  "cells": [
    {
      "cell_type": "markdown",
      "metadata": {
        "id": "view-in-github",
        "colab_type": "text"
      },
      "source": [
        "<a href=\"https://colab.research.google.com/github/Ray3104/Machine_learning_assignments/blob/main/Assignment1_classification.ipynb\" target=\"_parent\"><img src=\"https://colab.research.google.com/assets/colab-badge.svg\" alt=\"Open In Colab\"/></a>"
      ]
    },
    {
      "cell_type": "markdown",
      "metadata": {
        "id": "dkrzmrzCL3vM"
      },
      "source": [
        "#### Welcome to Assingment  1 of Machine Learning Course 5DV194! \n",
        "The task is to create a classifier for cancer diagnose (malignant or benign)\n",
        "#### Deadline of Assignment 1:\n",
        "6 March, 2021 (23:59:59 Stockholm time)\n",
        "\n",
        "\n",
        "#### Goal \n",
        "To get familar with (installation and usage) Jupyter notebook and machine learning library Sklearn (https://scikit-learn.org/stable/) by applying four different classification algorithms (KNN, Logistic Regression, SVM, Decision Tree) on the same task.  Additionally, you also call functions for data scaling, regularization, and kernel function.\n",
        "#### Dataset\n",
        "Breast Cancer Wisconsin (Diagnostic) Database.\n",
        "https://archive.ics.uci.edu/ml/datasets/breast+cancer+wisconsin+(diagnostic)\n",
        "\n",
        " \n",
        "\n",
        "#### Grading (200 points)\n",
        "##### 100 points \n",
        "Follow this jupyter notebook file below, you will find some tasks to complete by coding. \n",
        "##### 40 points \n",
        "In SVM algorithm, you will be asked to implement two kernel functions and apply them in your SVM model.  \n",
        "##### 60 points (report)\n",
        "Write a report (1-1.5 pages, Times New Roman, font 11) which should include 1) the accuracy of different algorithms on different settings (40 points); 2) your thoughts/options about the difference of these four algorithms/settings (15 points); 3) your thoughts about the tools you are using (jupyter notebook, sklearn and other libraries). What new knowledge/skills did you get through this assignment. (5 points).   \n",
        " \n",
        "\n",
        "Upload the report PDF and this jupyter notebook file \"Assignment1_classification.ipynb\" to Cambro/Drop Box.\n"
      ]
    },
    {
      "cell_type": "markdown",
      "metadata": {
        "id": "OxjUXg1FL3vN"
      },
      "source": [
        "## Get the data"
      ]
    },
    {
      "cell_type": "code",
      "metadata": {
        "id": "9Kw3V7kvL3vN"
      },
      "source": [
        "from sklearn.datasets import load_breast_cancer"
      ],
      "execution_count": null,
      "outputs": []
    },
    {
      "cell_type": "code",
      "metadata": {
        "id": "ietBh8btL3vO",
        "colab": {
          "base_uri": "https://localhost:8080/"
        },
        "outputId": "9224cf1d-ebbd-4539-e862-59d9330f234d"
      },
      "source": [
        "cancer = load_breast_cancer()\n",
        "#print the predicton labels (target names)\n",
        "list(cancer.target_names)"
      ],
      "execution_count": null,
      "outputs": [
        {
          "output_type": "execute_result",
          "data": {
            "text/plain": [
              "['malignant', 'benign']"
            ]
          },
          "metadata": {
            "tags": []
          },
          "execution_count": 4
        }
      ]
    },
    {
      "cell_type": "code",
      "metadata": {
        "id": "s7ts55lQL3vO",
        "colab": {
          "base_uri": "https://localhost:8080/"
        },
        "outputId": "889f430c-7fc2-409b-a7d8-c8172aa04bf1"
      },
      "source": [
        "# Organize our data\n",
        "label_names = cancer['target_names']\n",
        "labels = cancer['target']\n",
        "feature_names = cancer['feature_names']\n",
        "features = cancer['data']\n",
        "print(type(labels))"
      ],
      "execution_count": null,
      "outputs": [
        {
          "output_type": "stream",
          "text": [
            "<class 'numpy.ndarray'>\n"
          ],
          "name": "stdout"
        }
      ]
    },
    {
      "cell_type": "code",
      "metadata": {
        "id": "Wcmcl88AL3vO",
        "colab": {
          "base_uri": "https://localhost:8080/"
        },
        "outputId": "242a847c-125c-49e6-a5ab-2612b2a6977d"
      },
      "source": [
        "# see the data\n",
        "print (label_names) \n",
        "print (len(labels))\n",
        "print (len(feature_names))\n",
        "print (len(features))"
      ],
      "execution_count": null,
      "outputs": [
        {
          "output_type": "stream",
          "text": [
            "['malignant' 'benign']\n",
            "569\n",
            "30\n",
            "569\n"
          ],
          "name": "stdout"
        }
      ]
    },
    {
      "cell_type": "markdown",
      "metadata": {
        "id": "gaOQI8vYL3vP"
      },
      "source": [
        "## Discover the data to gain insights"
      ]
    },
    {
      "cell_type": "markdown",
      "metadata": {
        "id": "BaltXv08L3vP"
      },
      "source": [
        "#### Task-1: output the number of features the breast cancer dataset has."
      ]
    },
    {
      "cell_type": "code",
      "metadata": {
        "id": "t81qH1IyL3vP",
        "colab": {
          "base_uri": "https://localhost:8080/"
        },
        "outputId": "55b17505-4747-4aa1-e00b-9aa570f304b1"
      },
      "source": [
        "print (len(feature_names))"
      ],
      "execution_count": null,
      "outputs": [
        {
          "output_type": "stream",
          "text": [
            "30\n"
          ],
          "name": "stdout"
        }
      ]
    },
    {
      "cell_type": "markdown",
      "metadata": {
        "id": "HPnRcCEnL3vQ"
      },
      "source": [
        "#### Task-2: output the size of the data set (how many instances/sample)"
      ]
    },
    {
      "cell_type": "code",
      "metadata": {
        "id": "i-ebO7r2L3vQ",
        "colab": {
          "base_uri": "https://localhost:8080/"
        },
        "outputId": "be18f88a-d737-4cb9-8419-0116c0717b34"
      },
      "source": [
        "print (len(features))"
      ],
      "execution_count": null,
      "outputs": [
        {
          "output_type": "stream",
          "text": [
            "569\n"
          ],
          "name": "stdout"
        }
      ]
    },
    {
      "cell_type": "markdown",
      "metadata": {
        "id": "z7MEXFO7L3vQ"
      },
      "source": [
        "#### Task-3: output the number of instances of malignant and the number of instances of benign."
      ]
    },
    {
      "cell_type": "code",
      "metadata": {
        "id": "D6877IH4L3vR",
        "colab": {
          "base_uri": "https://localhost:8080/"
        },
        "outputId": "265552f6-6800-451e-a6fa-7dc847f4ad64"
      },
      "source": [
        "import numpy as np\n",
        "\n",
        "#print(cancer.DESCR)\n",
        "mali=np.count_nonzero(labels)\n",
        "beni=len(labels)-mali\n",
        "print(mali)\n",
        "print(beni)\n",
        "\n"
      ],
      "execution_count": null,
      "outputs": [
        {
          "output_type": "stream",
          "text": [
            "357\n",
            "212\n"
          ],
          "name": "stdout"
        }
      ]
    },
    {
      "cell_type": "markdown",
      "metadata": {
        "id": "29wZvpyVL3vR"
      },
      "source": [
        "## Tiny practice to prepare training and test data for algorithms"
      ]
    },
    {
      "cell_type": "markdown",
      "metadata": {
        "id": "2779WmMcL3vR"
      },
      "source": [
        "Below we will split dataset into training dataset (x) and testing dataset (y)"
      ]
    },
    {
      "cell_type": "markdown",
      "metadata": {
        "id": "4VinY7QlL3vR"
      },
      "source": [
        "#### import train_test_split from sklearn"
      ]
    },
    {
      "cell_type": "code",
      "metadata": {
        "id": "ECdaeWfEL3vS"
      },
      "source": [
        "from sklearn.datasets import load_breast_cancer\n",
        "cancer = load_breast_cancer()"
      ],
      "execution_count": null,
      "outputs": []
    },
    {
      "cell_type": "markdown",
      "metadata": {
        "id": "YiyU9aeqL3vS"
      },
      "source": [
        "#### Split our data with traing data test_size=0.3"
      ]
    },
    {
      "cell_type": "code",
      "metadata": {
        "id": "rBs6ecxbL3vS"
      },
      "source": [
        "from sklearn.model_selection import train_test_split\n",
        "X_train, X_test, y_train, y_test = train_test_split(cancer.data, cancer.target, test_size=0.3)"
      ],
      "execution_count": null,
      "outputs": []
    },
    {
      "cell_type": "markdown",
      "metadata": {
        "id": "D8icJy6DL3vS"
      },
      "source": [
        "#### Question（no coding need）: Is above split of training/testing is random? How to make the training and test data fixed, so you can reproduce your results?"
      ]
    },
    {
      "cell_type": "code",
      "metadata": {
        "collapsed": true,
        "id": "M9bLbwYDL3vT"
      },
      "source": [
        "answer: yes, choose a same non-zero random state (time seed) every time"
      ],
      "execution_count": null,
      "outputs": []
    },
    {
      "cell_type": "markdown",
      "metadata": {
        "id": "eggbOq5SL3vT"
      },
      "source": [
        "Okay, we just finish some warming excercises, in the following, we will train four different classifier and use them to do cancer prediction respectively.\n",
        "\n",
        "## General Learning Process\n",
        "#### 1. load the data and prepare the data\n",
        "#### 2. Implement an algorithm\n",
        "#### 3. Train the algorithm, verify accuracy, and optimize.\n",
        "#### 4. Predict on test data.\n",
        "#### 5. Output the prediction performance\n",
        "\n",
        "Note that in this assigment, you are not requied to implment the classifiction algorithms, which are already implemented in backend in sklearn library, you just call the function to run the required task. It is your responsibility to explore which function can be used and should be used to implement the TASKS below.  Furthermore, feel free to explore new functions though not mandatory. "
      ]
    },
    {
      "cell_type": "markdown",
      "metadata": {
        "id": "DDUu_ELBL3vT"
      },
      "source": [
        "## Algorithm1: KNN"
      ]
    },
    {
      "cell_type": "markdown",
      "metadata": {
        "id": "MczMnDHIL3vT"
      },
      "source": [
        "#### okay, now let's asume we start from scratch to use KNN for this classification task. \n",
        "#### Task-4: load cancer data as you did in above warming excercise"
      ]
    },
    {
      "cell_type": "code",
      "metadata": {
        "collapsed": true,
        "id": "IkDPF0dGL3vU"
      },
      "source": [
        "from sklearn.datasets import load_breast_cancer\n",
        "cancer = load_breast_cancer()"
      ],
      "execution_count": null,
      "outputs": []
    },
    {
      "cell_type": "markdown",
      "metadata": {
        "id": "kOaXpzz3L3vU"
      },
      "source": [
        "#### Task-5: split data into training data and test data, keep training/test size as default, but specify a fixed value for random_state yourself. "
      ]
    },
    {
      "cell_type": "code",
      "metadata": {
        "collapsed": true,
        "id": "Bx-l27utL3vU"
      },
      "source": [
        "from sklearn.model_selection import train_test_split\n",
        "X_train, X_test, y_train, y_test = train_test_split(cancer.data, cancer.target, test_size=0.3, random_state=5)"
      ],
      "execution_count": null,
      "outputs": []
    },
    {
      "cell_type": "markdown",
      "metadata": {
        "id": "LE-HtVA2L3vU"
      },
      "source": [
        "## Select an algorithm\n",
        "#### Train KNN model using KNeighborsClassifier in sklearn"
      ]
    },
    {
      "cell_type": "code",
      "metadata": {
        "id": "67hvKAPeL3vV",
        "colab": {
          "base_uri": "https://localhost:8080/"
        },
        "outputId": "df883aa7-aad7-43c6-c66d-86b9608ac2e6"
      },
      "source": [
        "from sklearn.neighbors import KNeighborsClassifier\n",
        "knn = KNeighborsClassifier()\n",
        "knn.fit(X_train, y_train)"
      ],
      "execution_count": null,
      "outputs": [
        {
          "output_type": "execute_result",
          "data": {
            "text/plain": [
              "KNeighborsClassifier(algorithm='auto', leaf_size=30, metric='minkowski',\n",
              "                     metric_params=None, n_jobs=None, n_neighbors=5, p=2,\n",
              "                     weights='uniform')"
            ]
          },
          "metadata": {
            "tags": []
          },
          "execution_count": 11
        }
      ]
    },
    {
      "cell_type": "markdown",
      "metadata": {
        "id": "d7u9KF9eL3vV"
      },
      "source": [
        "#### We predict cancer on the test data using the trained KNN and output the prediction results"
      ]
    },
    {
      "cell_type": "code",
      "metadata": {
        "scrolled": true,
        "id": "FLW7ySA8L3vV",
        "colab": {
          "base_uri": "https://localhost:8080/"
        },
        "outputId": "60ffc318-dd3c-4c3e-f7e8-b3003c37c649"
      },
      "source": [
        "prediction = knn.predict(X_test)\n",
        "print (prediction)"
      ],
      "execution_count": null,
      "outputs": [
        {
          "output_type": "stream",
          "text": [
            "[0 1 1 1 1 0 1 1 1 1 1 1 0 1 1 1 1 1 1 1 1 1 1 1 1 1 0 0 1 0 0 0 1 0 1 1 0\n",
            " 1 1 0 1 1 1 0 1 1 0 0 1 0 1 1 1 1 1 0 1 0 1 0 0 0 1 1 1 0 1 1 1 0 1 0 1 1\n",
            " 1 1 1 1 0 1 0 1 0 0 0 1 0 1 0 0 0 0 1 1 0 0 1 1 1 1 1 0 1 1 0 0 1 0 1 0 1\n",
            " 0 1 0 1 1 0 1 0 1 1 1 0 1 0 1 0 1 1 0 1 1 1 1 1 0 1 1 1 1 1 1 1 0 1 1 1 0\n",
            " 1 1 1 0 1 1 1 0 1 1 0 1 1 1 1 1 0 0 1 1 1 1 1]\n"
          ],
          "name": "stdout"
        }
      ]
    },
    {
      "cell_type": "markdown",
      "metadata": {
        "id": "4spfiSoQL3vV"
      },
      "source": [
        "#### we output the accuracies of the trained KNN model on training data and test data respectively."
      ]
    },
    {
      "cell_type": "code",
      "metadata": {
        "id": "VHL2EECBL3vW",
        "colab": {
          "base_uri": "https://localhost:8080/"
        },
        "outputId": "bbbd1c57-856d-431c-9746-e10dbb28a3e3"
      },
      "source": [
        "print (knn.score(X_train, y_train))\n",
        "print (knn.score(X_test, y_test))"
      ],
      "execution_count": null,
      "outputs": [
        {
          "output_type": "stream",
          "text": [
            "0.9371859296482412\n",
            "0.9473684210526315\n"
          ],
          "name": "stdout"
        }
      ]
    },
    {
      "cell_type": "markdown",
      "metadata": {
        "id": "nt4QTq2aL3vW"
      },
      "source": [
        "#### Task-6: round down the floats to two decimals?"
      ]
    },
    {
      "cell_type": "code",
      "metadata": {
        "id": "IQlsmL44L3vW",
        "colab": {
          "base_uri": "https://localhost:8080/"
        },
        "outputId": "bb85eed1-b4d7-4b14-c793-870b64147ca3"
      },
      "source": [
        "a=round(knn.score(X_train, y_train),2)\n",
        "print(a)\n",
        "b=round(knn.score(X_test, y_test),2)\n",
        "print(b)"
      ],
      "execution_count": null,
      "outputs": [
        {
          "output_type": "stream",
          "text": [
            "0.94\n",
            "0.95\n"
          ],
          "name": "stdout"
        }
      ]
    },
    {
      "cell_type": "markdown",
      "metadata": {
        "id": "d8cX2_N0L3vW"
      },
      "source": [
        "#### Next, we are going to do some optimization, to explore the best N value."
      ]
    },
    {
      "cell_type": "markdown",
      "metadata": {
        "id": "n8l0YEroL3vW"
      },
      "source": [
        "####  Task-7: print out the value of N in your above trianed KNN?"
      ]
    },
    {
      "cell_type": "code",
      "metadata": {
        "id": "5r5bTzS9L3vW",
        "colab": {
          "base_uri": "https://localhost:8080/"
        },
        "outputId": "31224826-6656-4439-b476-7ba571628e9b"
      },
      "source": [
        "print(knn.n_neighbors)"
      ],
      "execution_count": null,
      "outputs": [
        {
          "output_type": "stream",
          "text": [
            "5\n"
          ],
          "name": "stdout"
        }
      ]
    },
    {
      "cell_type": "markdown",
      "metadata": {
        "id": "8R41nRMFL3vX"
      },
      "source": [
        "####  Task-8: try different N (e.g., [1,10]), and print out the accuracy when N is applied with different values."
      ]
    },
    {
      "cell_type": "code",
      "metadata": {
        "id": "Az9RND_SL3vX",
        "colab": {
          "base_uri": "https://localhost:8080/"
        },
        "outputId": "78c0e356-c425-4a57-efdd-e3ec1f1eb869"
      },
      "source": [
        "from sklearn.neighbors import KNeighborsClassifier\n",
        "for i in range(1,10):\n",
        "  knn = KNeighborsClassifier(n_neighbors=i)\n",
        "  knn.fit(X_train, y_train)\n",
        "  prediction = knn.predict(X_test)\n",
        "  a=round(knn.score(X_train, y_train),2)\n",
        "  print (i, \"a\", a)\n",
        "  b=round(knn.score(X_test, y_test),2)\n",
        "  print (i, 'b', b)"
      ],
      "execution_count": null,
      "outputs": [
        {
          "output_type": "stream",
          "text": [
            "1 a 1.0\n",
            "1 b 0.95\n",
            "2 a 0.96\n",
            "2 b 0.94\n",
            "3 a 0.94\n",
            "3 b 0.94\n",
            "4 a 0.93\n",
            "4 b 0.94\n",
            "5 a 0.94\n",
            "5 b 0.95\n",
            "6 a 0.92\n",
            "6 b 0.96\n",
            "7 a 0.93\n",
            "7 b 0.95\n",
            "8 a 0.93\n",
            "8 b 0.96\n",
            "9 a 0.93\n",
            "9 b 0.96\n"
          ],
          "name": "stdout"
        }
      ]
    },
    {
      "cell_type": "markdown",
      "metadata": {
        "id": "aOBftLn3L3vX"
      },
      "source": [
        "## Algorithm2: Logistic Regression"
      ]
    },
    {
      "cell_type": "code",
      "metadata": {
        "id": "OQouU55BL3vX"
      },
      "source": [
        "from sklearn.datasets import load_breast_cancer\n",
        "from sklearn.model_selection import train_test_split\n",
        "\n",
        "cancer = load_breast_cancer()"
      ],
      "execution_count": null,
      "outputs": []
    },
    {
      "cell_type": "markdown",
      "metadata": {
        "id": "rOTkaw0xL3vX"
      },
      "source": [
        "####  Task-9: Split the data into training data and test data as you did above, this time try to not copy but write the code yourself"
      ]
    },
    {
      "cell_type": "code",
      "metadata": {
        "id": "toaUchSSL3vX"
      },
      "source": [
        "from sklearn.model_selection import train_test_split\n",
        "X_train, X_test, y_train, y_test = train_test_split(cancer.data, cancer.target, test_size=0.3, random_state=5)"
      ],
      "execution_count": null,
      "outputs": []
    },
    {
      "cell_type": "markdown",
      "metadata": {
        "id": "OPl5_UWYL3vX"
      },
      "source": [
        "####  Task-10: Train logistic regression model"
      ]
    },
    {
      "cell_type": "code",
      "metadata": {
        "collapsed": true,
        "id": "xn0HLUE3L3vY",
        "colab": {
          "base_uri": "https://localhost:8080/"
        },
        "outputId": "87f74ea9-e6c4-4434-d59c-f8e4107c7c21"
      },
      "source": [
        "from sklearn.linear_model import LogisticRegression\n",
        "#training\n",
        "log_reg = LogisticRegression()\n",
        "log_reg.max_iter=10000\n",
        "log_reg.fit(X_train, y_train)\n",
        "\n",
        "\n"
      ],
      "execution_count": null,
      "outputs": [
        {
          "output_type": "execute_result",
          "data": {
            "text/plain": [
              "LogisticRegression(C=1.0, class_weight=None, dual=False, fit_intercept=True,\n",
              "                   intercept_scaling=1, l1_ratio=None, max_iter=10000,\n",
              "                   multi_class='auto', n_jobs=None, penalty='l2',\n",
              "                   random_state=None, solver='lbfgs', tol=0.0001, verbose=0,\n",
              "                   warm_start=False)"
            ]
          },
          "metadata": {
            "tags": []
          },
          "execution_count": 36
        }
      ]
    },
    {
      "cell_type": "markdown",
      "metadata": {
        "id": "0rLO9vw5L3vY"
      },
      "source": [
        "#### Below we predict cancer on the test data using the trained logistic regression model"
      ]
    },
    {
      "cell_type": "code",
      "metadata": {
        "collapsed": true,
        "id": "EPEO-PJeL3vY"
      },
      "source": [
        "prediction = log_reg.predict(X_test)"
      ],
      "execution_count": null,
      "outputs": []
    },
    {
      "cell_type": "markdown",
      "metadata": {
        "id": "Q_tY3BVML3vY"
      },
      "source": [
        "####  Task-11: print out the accuracies of the trained  logistic regression model on training data and test data respectively."
      ]
    },
    {
      "cell_type": "code",
      "metadata": {
        "id": "gcSSu2ALL3vY",
        "colab": {
          "base_uri": "https://localhost:8080/"
        },
        "outputId": "4dfe7cb7-9680-4e97-ac27-d0d244b4a946"
      },
      "source": [
        "a=round(log_reg.score(X_train, y_train),2)\n",
        "print(a)\n",
        "b=round(log_reg.score(X_test, y_test),2)\n",
        "print(log_reg.score(X_test, y_test))"
      ],
      "execution_count": null,
      "outputs": [
        {
          "output_type": "stream",
          "text": [
            "0.95\n",
            "0.9824561403508771\n"
          ],
          "name": "stdout"
        }
      ]
    },
    {
      "cell_type": "markdown",
      "metadata": {
        "id": "zWxfhDl_L3vY"
      },
      "source": [
        "#### Optimization\n",
        "#### Regularization"
      ]
    },
    {
      "cell_type": "markdown",
      "metadata": {
        "id": "W7IYd9seL3vZ"
      },
      "source": [
        "#### Task-12: Train a logistic regression model by modifying the regularization parameter C to different values (e.g., 100), "
      ]
    },
    {
      "cell_type": "code",
      "metadata": {
        "id": "C4c2jdzqL3vZ",
        "colab": {
          "base_uri": "https://localhost:8080/"
        },
        "outputId": "719d708a-62df-4767-9bd4-5c0fd1ecb784"
      },
      "source": [
        "from sklearn.linear_model import LogisticRegression\n",
        "#training\n",
        "log_reg = LogisticRegression()\n",
        "log_reg.max_iter=10000\n",
        "log_reg.C=100\n",
        "log_reg.fit(X_train, y_train)\n"
      ],
      "execution_count": null,
      "outputs": [
        {
          "output_type": "execute_result",
          "data": {
            "text/plain": [
              "LogisticRegression(C=100, class_weight=None, dual=False, fit_intercept=True,\n",
              "                   intercept_scaling=1, l1_ratio=None, max_iter=10000,\n",
              "                   multi_class='auto', n_jobs=None, penalty='l2',\n",
              "                   random_state=None, solver='lbfgs', tol=0.0001, verbose=0,\n",
              "                   warm_start=False)"
            ]
          },
          "metadata": {
            "tags": []
          },
          "execution_count": 39
        }
      ]
    },
    {
      "cell_type": "markdown",
      "metadata": {
        "id": "6FCSpf6HL3vZ"
      },
      "source": [
        "#### Task-13: print the corresponding training and testing accuracy to see the differences"
      ]
    },
    {
      "cell_type": "code",
      "metadata": {
        "id": "9lLIP8p5L3vZ",
        "colab": {
          "base_uri": "https://localhost:8080/"
        },
        "outputId": "43181876-cf11-45c0-ec80-c8e956c393d2"
      },
      "source": [
        "a=round(log_reg.score(X_train, y_train),2)\n",
        "print(log_reg.score(X_train, y_train))\n",
        "b=round(log_reg.score(X_test, y_test),2)\n",
        "print(log_reg.score(X_test, y_test))"
      ],
      "execution_count": null,
      "outputs": [
        {
          "output_type": "stream",
          "text": [
            "0.9874371859296482\n",
            "0.9766081871345029\n"
          ],
          "name": "stdout"
        }
      ]
    },
    {
      "cell_type": "markdown",
      "metadata": {
        "id": "jfzAYi0iL3vZ"
      },
      "source": [
        "#### Task-14: Lower the regularization parameter C as 0.01, and print out the corresponding training and testing accuracy."
      ]
    },
    {
      "cell_type": "code",
      "metadata": {
        "id": "f51sSht7L3vZ",
        "colab": {
          "base_uri": "https://localhost:8080/"
        },
        "outputId": "1e5ea979-8d8d-4e3d-81ec-d61649d8d505"
      },
      "source": [
        "from sklearn.linear_model import LogisticRegression\n",
        "#training\n",
        "#panelty\n",
        "log_reg = LogisticRegression(C=0.01)\n",
        "log_reg.fit(X_train, y_train)\n",
        "a=round(log_reg.score(X_train, y_train),2)\n",
        "print(log_reg.score(X_train, y_train))\n",
        "b=round(log_reg.score(X_test, y_test),2)\n",
        "print(log_reg.score(X_test, y_test))"
      ],
      "execution_count": null,
      "outputs": [
        {
          "output_type": "stream",
          "text": [
            "0.756043956043956\n",
            "0.6929824561403509\n"
          ],
          "name": "stdout"
        }
      ]
    },
    {
      "cell_type": "markdown",
      "metadata": {
        "id": "SbL-9q2ML3vZ"
      },
      "source": [
        "## Algorithm3: SVM"
      ]
    },
    {
      "cell_type": "markdown",
      "metadata": {
        "id": "AYUvJKaFL3va"
      },
      "source": [
        "#### We are loading data and splitting data into training data and test data "
      ]
    },
    {
      "cell_type": "code",
      "metadata": {
        "id": "B9nH9EzuL3va",
        "colab": {
          "base_uri": "https://localhost:8080/"
        },
        "outputId": "5ab98364-64bb-4291-e1c8-5fc3553951ea"
      },
      "source": [
        "from sklearn.datasets import load_breast_cancer\n",
        "cancer = load_breast_cancer()\n",
        "\n",
        "from sklearn.model_selection import train_test_split\n",
        "X_train, X_test, y_train, y_test = train_test_split(cancer.data, cancer.target, random_state=0)\n",
        "\n",
        "\n",
        "from sklearn.preprocessing import MinMaxScaler\n",
        "X, y = load_breast_cancer(return_X_y=True)\n",
        "X_scaled = MinMaxScaler().fit_transform(X)\n",
        "X_train, X_test, y_train, y_test = train_test_split(X_scaled, y, test_size=0.3, random_state=0)\n",
        "print(X_train.shape,  y_train.shape)"
      ],
      "execution_count": null,
      "outputs": [
        {
          "output_type": "stream",
          "text": [
            "(398, 30) (398,)\n"
          ],
          "name": "stdout"
        }
      ]
    },
    {
      "cell_type": "markdown",
      "metadata": {
        "id": "FOhgDYweL3va"
      },
      "source": [
        "####  Task-15:  train a SVM model using SVC model in sklearn"
      ]
    },
    {
      "cell_type": "code",
      "metadata": {
        "id": "nB9JQEAfL3va",
        "colab": {
          "base_uri": "https://localhost:8080/"
        },
        "outputId": "81d669bd-4fc4-4eff-ff79-f897595b7a37"
      },
      "source": [
        "import numpy as np\n",
        "from sklearn.svm import SVC \n",
        "\n",
        "#codes to train a SVM model\n",
        "svm = SVC(C=1,gamma=0.1)\n",
        "\n",
        "svm.fit(X_train, y_train)\n",
        "\n"
      ],
      "execution_count": null,
      "outputs": [
        {
          "output_type": "execute_result",
          "data": {
            "text/plain": [
              "SVC(C=1, break_ties=False, cache_size=200, class_weight=None, coef0=0.0,\n",
              "    decision_function_shape='ovr', degree=3, gamma=0.1, kernel='rbf',\n",
              "    max_iter=-1, probability=False, random_state=None, shrinking=True,\n",
              "    tol=0.001, verbose=False)"
            ]
          },
          "metadata": {
            "tags": []
          },
          "execution_count": 40
        }
      ]
    },
    {
      "cell_type": "markdown",
      "metadata": {
        "id": "fFXwGLJLL3va"
      },
      "source": [
        "#### We predict cancer on the test data using the trained SVM model"
      ]
    },
    {
      "cell_type": "code",
      "metadata": {
        "collapsed": true,
        "id": "d7w3mGe3L3vb"
      },
      "source": [
        "prediction = svm.predict(X_test)"
      ],
      "execution_count": null,
      "outputs": []
    },
    {
      "cell_type": "markdown",
      "metadata": {
        "id": "zSideGH5L3vb"
      },
      "source": [
        "####  Task-16: output the accuracy of the training and prediction respectively."
      ]
    },
    {
      "cell_type": "code",
      "metadata": {
        "id": "eGpVLD5_L3vb",
        "colab": {
          "base_uri": "https://localhost:8080/"
        },
        "outputId": "b2d7e7ef-0440-4a85-b764-2ad75168cc4f"
      },
      "source": [
        "print ('prediction=', prediction)\n",
        "print ('acc_train：', svm.score(X_train, y_train))\n",
        "print ('acc_test：', svm.score(X_test, y_test))"
      ],
      "execution_count": null,
      "outputs": [
        {
          "output_type": "stream",
          "text": [
            "prediction= [0 1 1 1 1 1 1 1 1 1 1 1 1 1 1 0 1 0 0 0 0 0 1 1 0 1 1 0 1 0 1 0 1 0 1 0 1\n",
            " 0 1 0 1 1 1 1 1 0 1 1 1 0 0 0 0 1 1 1 1 1 1 0 0 0 1 1 0 1 0 0 0 1 1 0 1 1\n",
            " 0 1 1 1 1 1 0 0 0 1 0 1 1 1 0 0 1 1 1 0 1 1 0 1 1 1 1 1 1 1 0 1 0 1 1 1 1\n",
            " 0 0 1 1 1 1 1 1 1 1 1 0 1 0 1 1 1 1 1 0 1 1 1 1 1 1 1 0 1 1 1 0 1 1 0 1 1\n",
            " 1 1 1 1 1 1 1 0 1 0 1 0 0 1 1 0 1 0 0 0 1 1 1]\n",
            "acc_train： 0.957286432160804\n",
            "acc_test： 0.9532163742690059\n"
          ],
          "name": "stdout"
        }
      ]
    },
    {
      "cell_type": "markdown",
      "metadata": {
        "id": "8AnAOO8nL3vb"
      },
      "source": [
        "#### Optimization by using kernel function\n",
        "#### Task-17: print the name of the default kernel function in above model."
      ]
    },
    {
      "cell_type": "code",
      "metadata": {
        "id": "5mNnYO78L3vb",
        "colab": {
          "base_uri": "https://localhost:8080/"
        },
        "outputId": "4e7e4fe0-ae06-419b-cc4f-840d205c8e59"
      },
      "source": [
        "print(svm.kernel)"
      ],
      "execution_count": null,
      "outputs": [
        {
          "output_type": "stream",
          "text": [
            "rbf\n"
          ],
          "name": "stdout"
        }
      ]
    },
    {
      "cell_type": "markdown",
      "metadata": {
        "id": "_Mu0st7IL3vb"
      },
      "source": [
        "#### Okay, now we will have a little bit harder nut to crack :-) \n",
        "#### Task-18:  implement two kernel functions (linear and Gaussian) on your own and test the different results."
      ]
    },
    {
      "cell_type": "code",
      "metadata": {
        "id": "MX87D1ZxL3vc"
      },
      "source": [
        "# kernel=linear\n",
        "def my_kernel_linear(xi,xj):\n",
        "    \n",
        "    # write a linear kernel function here\n",
        "    return xi.dot(xj.T)\n",
        "  "
      ],
      "execution_count": null,
      "outputs": []
    },
    {
      "cell_type": "code",
      "metadata": {
        "id": "9Kk6l1rnL3vc"
      },
      "source": [
        "# kernel=Gaussian = RBF\n",
        "\n",
        "from scipy.spatial.distance import pdist, squareform\n",
        "def my_kernel_gaussian(xi,xj):\n",
        "    K=np.exp(-0.1*np.square(xi[:,np.newaxis]-xj).sum(axis=2))\n",
        "    return K\n",
        "\n"
      ],
      "execution_count": null,
      "outputs": []
    },
    {
      "cell_type": "markdown",
      "metadata": {
        "id": "eV-zDwDwL3vc"
      },
      "source": [
        "#### We are replacing replace the default kernel function with your kernel.  "
      ]
    },
    {
      "cell_type": "code",
      "metadata": {
        "collapsed": true,
        "id": "eirV6TUeL3vc",
        "colab": {
          "base_uri": "https://localhost:8080/"
        },
        "outputId": "88ab14a8-2a93-4641-9a4c-a3e9277ced20"
      },
      "source": [
        "svm_linear_kernel = SVC(kernel=my_kernel_linear)\n",
        "svm_linear_kernel.fit(X_train, y_train)"
      ],
      "execution_count": null,
      "outputs": [
        {
          "output_type": "execute_result",
          "data": {
            "text/plain": [
              "SVC(C=1.0, break_ties=False, cache_size=200, class_weight=None, coef0=0.0,\n",
              "    decision_function_shape='ovr', degree=3, gamma='scale',\n",
              "    kernel=<function my_kernel_linear at 0x7f4b6d8ff200>, max_iter=-1,\n",
              "    probability=False, random_state=None, shrinking=True, tol=0.001,\n",
              "    verbose=False)"
            ]
          },
          "metadata": {
            "tags": []
          },
          "execution_count": 46
        }
      ]
    },
    {
      "cell_type": "markdown",
      "metadata": {
        "id": "xZjIccPPL3vc"
      },
      "source": [
        "####  Task-19: print out the accuracy  of SVM models with kernel function my_kernel_linear."
      ]
    },
    {
      "cell_type": "code",
      "metadata": {
        "id": "V-pqivAJL3vc",
        "colab": {
          "base_uri": "https://localhost:8080/"
        },
        "outputId": "4fc81663-2155-46f4-9f86-3cea476682ca"
      },
      "source": [
        "print(svm_linear_kernel.score(X_train, y_train))\n",
        "print(svm_linear_kernel.score(X_test, y_test))"
      ],
      "execution_count": null,
      "outputs": [
        {
          "output_type": "stream",
          "text": [
            "0.9773869346733668\n",
            "0.9707602339181286\n"
          ],
          "name": "stdout"
        }
      ]
    },
    {
      "cell_type": "markdown",
      "metadata": {
        "id": "A4h0kJGtL3vc"
      },
      "source": [
        "#### Below, we replace the default kernel function with the gaussian kernel you wrote.  "
      ]
    },
    {
      "cell_type": "code",
      "metadata": {
        "id": "1ZRgav2eL3vd",
        "colab": {
          "base_uri": "https://localhost:8080/"
        },
        "outputId": "0b3779bd-dbac-4fb0-bb38-0261a91e53bb"
      },
      "source": [
        "svm_gaussian_kernel = SVC(kernel=my_kernel_gaussian)\n",
        "svm_gaussian_kernel.fit(X_train, y_train)"
      ],
      "execution_count": null,
      "outputs": [
        {
          "output_type": "execute_result",
          "data": {
            "text/plain": [
              "SVC(C=1.0, break_ties=False, cache_size=200, class_weight=None, coef0=0.0,\n",
              "    decision_function_shape='ovr', degree=3, gamma='scale',\n",
              "    kernel=<function my_kernel_gaussian at 0x7f4b6d8ff3b0>, max_iter=-1,\n",
              "    probability=False, random_state=None, shrinking=True, tol=0.001,\n",
              "    verbose=False)"
            ]
          },
          "metadata": {
            "tags": []
          },
          "execution_count": 48
        }
      ]
    },
    {
      "cell_type": "markdown",
      "metadata": {
        "id": "kE1tNtB1L3vd"
      },
      "source": [
        "#### Task-20: print out the accuracy of SVM models with kernel function my_kernel_gaussian"
      ]
    },
    {
      "cell_type": "code",
      "metadata": {
        "id": "0MOEHmU4L3vd",
        "colab": {
          "base_uri": "https://localhost:8080/"
        },
        "outputId": "84a49144-b762-4dd2-a99a-8e9d1b7d05a1"
      },
      "source": [
        "print(svm_gaussian_kernel.score(X_train, y_train))\n",
        "print(svm_gaussian_kernel.score(X_test, y_test))"
      ],
      "execution_count": null,
      "outputs": [
        {
          "output_type": "stream",
          "text": [
            "0.957286432160804\n",
            "0.9532163742690059\n"
          ],
          "name": "stdout"
        }
      ]
    },
    {
      "cell_type": "markdown",
      "metadata": {
        "id": "b3m9w2fAL3vd"
      },
      "source": [
        "## Algorithm4:  Decision Tree"
      ]
    },
    {
      "cell_type": "markdown",
      "metadata": {
        "id": "gIld8QwsL3vd"
      },
      "source": [
        "#### Okay, after above repetitive practices.  I would let you complete the whole training and testing process by yourself for decision tree. "
      ]
    },
    {
      "cell_type": "markdown",
      "metadata": {
        "id": "zhbh4t8HL3vd"
      },
      "source": [
        "####  Task-21: get data, split into traing data and test data"
      ]
    },
    {
      "cell_type": "code",
      "metadata": {
        "id": "lqFpzDg4L3vd"
      },
      "source": [
        "from sklearn.datasets import load_breast_cancer\n",
        "cancer = load_breast_cancer()\n",
        "\n",
        "from sklearn import tree\n",
        "from sklearn.model_selection import train_test_split\n",
        "\n",
        "X_train, X_test, y_train, y_test = train_test_split(cancer.data, cancer.target, test_size=0.33, random_state=42)\n",
        "\n"
      ],
      "execution_count": null,
      "outputs": []
    },
    {
      "cell_type": "markdown",
      "metadata": {
        "id": "Snjsli3zL3ve"
      },
      "source": [
        "####  Task-22: train a Decision Tree model using DecisionTreeClassifier in sklearn"
      ]
    },
    {
      "cell_type": "code",
      "metadata": {
        "id": "RqNiCVtlL3ve",
        "colab": {
          "base_uri": "https://localhost:8080/"
        },
        "outputId": "d805c447-7e4b-452d-a03e-f995274f557f"
      },
      "source": [
        "import numpy as np\n",
        "\n",
        "D_tree= tree.DecisionTreeClassifier()\n",
        "D_tree.fit(X_train, y_train)"
      ],
      "execution_count": null,
      "outputs": [
        {
          "output_type": "execute_result",
          "data": {
            "text/plain": [
              "DecisionTreeClassifier(ccp_alpha=0.0, class_weight=None, criterion='gini',\n",
              "                       max_depth=None, max_features=None, max_leaf_nodes=None,\n",
              "                       min_impurity_decrease=0.0, min_impurity_split=None,\n",
              "                       min_samples_leaf=1, min_samples_split=2,\n",
              "                       min_weight_fraction_leaf=0.0, presort='deprecated',\n",
              "                       random_state=None, splitter='best')"
            ]
          },
          "metadata": {
            "tags": []
          },
          "execution_count": 3
        }
      ]
    },
    {
      "cell_type": "markdown",
      "metadata": {
        "id": "Di6wPwFhL3ve"
      },
      "source": [
        "#### Task-23: predict cancer on the test data using the trained Decision Tree model"
      ]
    },
    {
      "cell_type": "code",
      "metadata": {
        "id": "3kS7zVWNL3ve"
      },
      "source": [
        "prediction = D_tree.predict(X_test)"
      ],
      "execution_count": null,
      "outputs": []
    },
    {
      "cell_type": "markdown",
      "metadata": {
        "id": "jple2JZpL3ve"
      },
      "source": [
        "####  Task-24: output the accuracies of the trained  logistic regression model on training data and test data respectively."
      ]
    },
    {
      "cell_type": "code",
      "metadata": {
        "id": "4uH0ibuqL3ve",
        "colab": {
          "base_uri": "https://localhost:8080/"
        },
        "outputId": "34db08e3-4983-4c35-db31-24c34c458a66"
      },
      "source": [
        "print(D_tree.score(X_train, y_train))\n",
        "print(D_tree.score(X_test, y_test))"
      ],
      "execution_count": null,
      "outputs": [
        {
          "output_type": "stream",
          "text": [
            "1.0\n",
            "0.925531914893617\n"
          ],
          "name": "stdout"
        }
      ]
    },
    {
      "cell_type": "markdown",
      "metadata": {
        "id": "ZwFEQNi2L3ve"
      },
      "source": [
        "#### Task-25: output the feature importances in this decision tree."
      ]
    },
    {
      "cell_type": "code",
      "metadata": {
        "id": "VG6zFeG_L3vf",
        "colab": {
          "base_uri": "https://localhost:8080/"
        },
        "outputId": "9aff0567-cdeb-4d58-b3e0-5a7432d446db"
      },
      "source": [
        "feat_importance = D_tree.tree_.compute_feature_importances(normalize=False)\n",
        "print(\"feat_importance = \" + str(feat_importance))"
      ],
      "execution_count": null,
      "outputs": [
        {
          "output_type": "stream",
          "text": [
            "feat importance = [0.         0.01484632 0.         0.         0.         0.\n",
            " 0.         0.34096887 0.         0.         0.00661861 0.00816565\n",
            " 0.         0.         0.00123955 0.         0.         0.00459318\n",
            " 0.         0.00513124 0.01966472 0.01061962 0.02657151 0.00171001\n",
            " 0.00512828 0.00769904 0.01502034 0.         0.         0.00349956]\n"
          ],
          "name": "stdout"
        }
      ]
    },
    {
      "cell_type": "markdown",
      "metadata": {
        "id": "-ToGqROLL3vf"
      },
      "source": [
        "#### External NON-mandatory task (only if you have time and/or interest): using matplotlib.pyplot to visualize feature importance value"
      ]
    },
    {
      "cell_type": "code",
      "metadata": {
        "id": "CwE4ADDAL3vf"
      },
      "source": [
        "import matplotlib.pyplot as plt"
      ],
      "execution_count": null,
      "outputs": []
    },
    {
      "cell_type": "code",
      "metadata": {
        "id": "dgG3TZ8ZL3vf"
      },
      "source": [
        ""
      ],
      "execution_count": null,
      "outputs": []
    },
    {
      "cell_type": "markdown",
      "metadata": {
        "id": "iFw-jo57L3vf"
      },
      "source": [
        "#### Congratualtions if you run through above!  \n",
        "#### If you are already familar with the training process using Sklearn, feel free to try other settings to improve the accuracy.\n",
        " "
      ]
    }
  ]
}